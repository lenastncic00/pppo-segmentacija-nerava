{
  "cells": [
    {
      "cell_type": "markdown",
      "metadata": {
        "id": "view-in-github",
        "colab_type": "text"
      },
      "source": [
        "<a href=\"https://colab.research.google.com/github/lenastncic00/pppo-segmentacija-nerava/blob/main/it50_2018_stan%C4%8Di%C4%87_lena_segmentacija.ipynb\" target=\"_parent\"><img src=\"https://colab.research.google.com/assets/colab-badge.svg\" alt=\"Open In Colab\"/></a>"
      ]
    },
    {
      "cell_type": "markdown",
      "metadata": {
        "id": "IH1yj6bs6asq"
      },
      "source": [
        "**Univerzitet u Novom Sadu**\n",
        "\n",
        "**Fakultet tehničkih nauka**\n",
        "\n",
        "**Departman za industrijsko inženjerstvo i menadžment**\n",
        "\n",
        "**Inženjerstvo informacionih sistema**\n",
        "\n",
        "**Predmet:** *Principi prezentacije i prepoznavanja oblika*\n",
        "\n",
        "**Tema:** *Segmentacija*\n",
        "\n",
        "**Student:** *Lena Stančić IT50/2018*\n",
        "\n",
        "**Datum:** *Jul 2022*"
      ]
    },
    {
      "cell_type": "markdown",
      "metadata": {
        "id": "UUCQwiTyc1L7"
      },
      "source": [
        "**Uvod**\n",
        "\n",
        "Za izradu projektnog zadatka dobijen je set podataka koji sadrži ultrazvučne slike nerava ljudskog tela na kojim je potrebno identifikovati nervne strukture. Tema koju je bilo potrebno odraditi za ovaj projekat na predmetu Principi prezentacije i prepoznavanja oblika je segmentacija. Projekat je planiran da bude predstavljen u dva dela teoretski i praktičan deo.\n",
        "\n",
        "Izrada projekta se sastoji od učitavanja podataka, vizuelizacije, izrade modela, treniranja, evaluacije i testiranja.\n",
        "\n",
        "**Segmentacija**\n",
        "\n",
        "Razvoje tehnologije u okviru medicinskog područja pružilo je ogromne napredke o kojima se nikada ranije nije moglo ni pretpostaviti. Učinjena su mnoga poboljšanja na polju hirurgije, medicine, rendgenskih zraka i mnogih drugih. Iz priloženog, slike se dele u odgovarajuće piksele tj. dele se na osnovu određenog područja ili kategorije što znatno pomaže medicinskom osoblju u bržem i kvalitetnijem otkrivanju anomalija na pomenutim snimcima.\n",
        "\n",
        "U digitalnoj obradi slike, segmentacija predstavlja proces podjele slike na više segmenata tj. razinstance.pngsemantic.pngličitih regiona ili kategorija. Kako segment predstavlja skup piksela, svaka regija sadrži piksele sa sličnim atributima, a svaki piksel na slici se dodjeljuje jednoj kategoriji. Stoga, segmentacija slike predstavlja postupak dodjeljivanja oznake svakom pikselu na slici tako da pikseli sa istom oznakom dijele određene karakteristike. [1]\n",
        "\n",
        "Cilj segmentacije nerava je poboljšanje tretmana zasnovanih na ultrazvučnim snimcima koji se široko koriste u medicini zbog velikog područja primene i ekonomičnosti. Jedan od nedostataka ovih slika je što sadrže ogromnu količinu buke, tako da se medicinsko osoblje suočava sa poteškoćama u pronalaženju tačnog mesta nerva. Pomoću segmentacije nerava na ultrazvučnim slikama vrlo lako se mogu pronaći nervi.\n",
        "\n",
        "**Metode segmentacije**\n",
        "\n",
        "U literaturi se mogu naći različite podele kada su u pitanju tehnike koje se primjenjuju prilikom segmentacije. Osnovna podela je na dve najčešće korišćene tehnike:\n",
        "\n",
        "Pronalaženje ivica ili segmentacija instance – izdvajanje samo onih piksela koji pripadaju rubovima objekata i\n",
        "Izdvajanje regiona ili semantička segmentacija – izdvajanje celog objekta od pozadine pridružujući piksele čija je svetlost ispod nekog praga pozadini, a ostale objektu i obrnuto.\n",
        "\n",
        "\n",
        "**Algoritmi i tehnike za segmentaciju**\n",
        "\n",
        "Postoje različite podele algoritama i tehnika za segmentaciju u zavisnosti od autora ali najveći broj njih vidi sledeće četiri tehnike koje se koriste:\n",
        "\n",
        "1.  Segmentacija pragom (Thresholding)\n",
        "2.  Segmentacija klasterizacijom (Clustering)\n",
        "3.  Segmentacija regionom (Region)\n",
        "4.  Segmentacija granicom regiona (Edge)\n",
        "\n",
        " \n",
        "\n",
        "*   **Segmentacija pragom** predstavlja grupu metoda zasnovanih na poređenju osvetljenosti piksela sa jednim ili više pragova, pa tako imamo segmentaciju sa jednim i segmentaciju sa više pragova. Ukoliko imamo slike u boji tada se vrši poređenje boje između piksela. Segmentacija sa jednim pragom predstavlja najjednostavniji vid segmentacije i njegova osnovna primena je za odvajanje objekta od pozadine, ukoliko pozadina ima uniformnu osvjetljenost (boju) koja se razlikuje od objekta. Ovakav način segmentacije se može primjeniti, npr., kod izdvajanja pisanog ili štampanog teksta, analize nekih biomedicinskih slika, prepoznavanja tipa aviona koji leti, itd. Segmentacija sa više pragova je metoda koju je pogodno koristiti u slučaju kada imamo scene sa više različitih objekata.\n",
        "*   **Segmentacija klasterizacijom** je jedna od najstarijih tehnika segmentacije, s obzirom da se može koristiti za segmentaciju sivih i slika u boji. Za vektor x=[x1, x2,…,xN] koji predstavlja merenja karakteristika jednog piksela slike, merene veličine mogu biti tri komponente boje piksela, ili neka druga obeležja izračunata u malom prozoru oko posmatranog piksela. Postupak segmentacije se u tom slučaju sastoji od podele N–dimenzionalnog prostora u uzajamno isključive oblasti, pri čemu svaka ta oblast obuhvata grupu podataka koja se odnosi na jedan region slike. Takav proces podele prema sličnosti vektora podataka se naziva klasterizacija. U prvoj fazi segmentacije vrši se izračunavanje i izdvajanje nekih obeležja slike. Sledeća faza podrazumijeva određivanje optimalnog broja regiona (klastera), kao i određivanje skupa vektora koji predstavljaju centre svakog klastera. Nakon toga se vrši pridruživanje svakog piksela jednom od klastera. Pridruživanje se vrši na osnovu sličnosti vektora koji opisuje piksel i vektora koji opisuje centar klastera. Ova metoda je sa dosta uspeha primenjivana u segmentaciji multispektralnih satelitskih ili avionskih snimaka, gdje je osnovni cilj bio izdvajanje regiona na površini zemlje koji imaju iste karakteristike, kao što su npr., isti tip poljoprivrednih kultura, isti sastav zemljišta, ista nadmorska visina, itd. Nedostatak ove metode je što ima veliku računsku složenost.\n",
        "\n",
        "* **Segmentacija regionom** predstavlja skup metoda koje pokušavaju da izdvoje područja slike koja su homogena sa gledišta određenih karakteristika. U ovu grupu spadaju:\n",
        "\n",
        "  1.   Segmentacija pomoću rasta regiona\n",
        "  2.   Segmentacija pomoću razdvajanja i spajanja regiona\n",
        "\n",
        "  * Osnovna ideja **segmentacije pomoću rasta regiona** je da se izvrši grupisanje susednih piksela sličnih osvetljenosti (boja), na osnovu čega se formiraju regioni. Postupak grupisanja počinje spajanjem po dva piksela istih karakteristika, pri čemu nastaje atomski region. Nakon toga se posmatraju dva susedna regiona R1 i R2, čiji su obimi (broj ivičnih piksela) označeni sa P1 i P2. Neka C predstavlja dužinu zajedničke granice regiona, a D dužinu zajedničke granice gde je razlika između karakteristika piksela sa obe strane granice manja od unapred definisane vrednosti. Kažemo da će se regioni R1 i R2 spojiti ukoliko važi: 𝐷 𝑚𝑖𝑛(𝑃1,𝑃2,) > ε2 gde je ε2 konstanta čija je vrednost najčešće jednaka 0.5. Zatim se vrši ispitivanje ostalih atomskih regiona, nakon čega se prelazi na ispitivanje regiona većih dimenzija sve dok je spajanje moguće. Metoda rasta regiona je naročito pogodna kod segmentacije prostih scena sa malim brojem objekata i slabom teksturom.\n",
        "\n",
        "  * Kod **segmentacije pomoću razdvajanja i spajanja regiona**, slika se deli na četiri kvadranta, nakon čega se ispituje da li su dobijeni podsegmenti uniformni po obeležju na osnovu kojeg se vrši segmentacija. Uniformnost se može definisati kao razlika između najmanje i najveće osvetljenosti piksela u regionu, preko varijanse osvetljenosti ili preko neke druge statističke mere. Svaki podsegment, za koji nije zadovoljen uslov uniformnosti, se dalje deli na četiri nova podsegmenta. Nakon što se izvrši razdvajanje, prelazi se na obrnuti postupak – spajanje regiona. Regioni koji imaju isto uniformno obeležje spajaju se u veći region. Nedostatak ove metode je u tome što se javlja vidljiva blokovska struktura regiona.\n",
        "* U procesu **segmentacije koji koristi ivice (granice regiona)** mora se primeniti i neki postupak za spajanje ivica, kako bi se formirale neprekidne granice regiona iz razloga što metode koje vrše izdvajanje ivica generišu isprekidane granice objekata a ne zatvorene krive. U tu svrhu se mogu koristiti: metoda spajanja ivica fitovanjem krive, spajanje ivica heurističkim metodama i spajanje ivica Hafovom transformacijom. Metodom fitovanja krivih se mogu rekonstruisati nedostajući segmenti ukoliko mapa ivica sadrži prekinute ivice. Fitovanje krivih je najjednostavnije kada nam je poznat oblik krive, pa se nedostajući segment dobija fitovanjem npr. pravih ili kružnih oblika. Kada su granice regiona složenije, vrši se razlaganje granice na jednostavnije delove. Glavna prednost ovog metoda je njena izuzetna jednostavnost i ona daje dobre rezultate u slučaju segmentacije jednostavnih scena. Međutim, kada imamo slike na kojima postoji veći broj objekata koji se preklapaju, mapa ivica sadrži tačke grananja, pa u tom slučaju ova metoda ne daje dobre rezultate. Kod heurističkih metoda za spajanje ivica se prvo formira gradijentna slika primenom odgovarajućih maski.\n",
        "\n",
        "**Projektni zadatak**\n",
        "\n",
        "Zadatak je da se na ultrazvučnim slikama segmentira skup nerava.\n",
        "\n",
        "Dobijeni dataset se sastoji od:\n",
        "\n",
        "1. train foldera koji sadrži slike koje se koriste za treniranje modela. Ova mapa uključuje slike maski koje prikazuju segmentaciju. Dakle, za svaku sliku svake osobe imamo odgovarajuću masku koja pokazuje da li ima identifikovanih nerava ili ne.\n",
        "\n",
        "2. test foldera koji sadrži slike za testiranje modela. Cilj je predvideti segmentaciju za ove slike i na njima nije dat broj osobe na koju se odnose, kako model sam treba da vrši procenu. \n",
        "\n",
        "\n",
        "\n",
        "\n",
        "**Zaključak**\n",
        "Cilj projekta je bio da se na najefikasniji način približi koncept segmentacije kao jedna od tehnika dubokog učenja.\n",
        "Tema je vrlo zanimljiva, jer omogućava uvid u realni problem i način na koji tehnologija može da da doprinos rešavanju istog.\n",
        "\n",
        "\n",
        "\n",
        "\n",
        "**Reference**\n",
        "\n",
        "[1] Linda G. Shapiro, George C. Stockman. Computer Vision. New Jersey. Prentice-Hall (2001)\n",
        "\n",
        "[2] Yi Jingru, Wu Pengxiang, Jiang Menglin, Huang Qiaoying, Hoeppner J. Daniel, Metaxas N. Dimitris. Attentive neural cell instance segmentation. Medical Image Analysis (2019)\n",
        "\n",
        "[3] Guo Dazhou, Pei Yanting, Zheng Kang, Yu Hongkai, Lu Yuhang, Wang Song. Degraded Image Semantic Segmentation With Dense-Gram Networks. IEEE Transactions on Image Processing (2020)\n",
        "\n",
        "[4] Umbaugh E. Scott. Digital image processing and analysis: Human and computer vision Applications with CVIPtools (2nd). Boca Raton, FL. CRC Press (2010)\n",
        "\n",
        "\n",
        "\n",
        "\n",
        "**Bibliotke u projektu**\n",
        "\n",
        "Na početku projekta potrebno je instalirati odgovarajuće biblioteke koje su neophodne za samu realizaciju.Jedna od  biblioteka je (segmentation_models_pytorch albumentations) zasnovana je na PyTorch-u. To je biblioteka koja se koristi za deep learning aplikacije koje koriste GPU ili CPU.Takođe. Hardware acceleration za izradu ovog projekta podešen je na GPU.\n",
        "\n",
        "Podesiti: runtime type Runtime->Change runtime type->(Hardware accelerator=GPU).\n",
        " \n",
        "Hardversko ubrzanje predstavlja proces kojim će aplikacija rasteretiri određene računarske zadatke na specijalizovane hardverske komponente u sistemu i na taj način će se omogućiti veća efikasnost nego što je to moguće u softveru koji radi samo na CPU opšte namene.\n",
        "\n",
        "Druga instalacija odnosi se na instalaciju albumentations biblioteke. To je Python biblioteka za povećavanje kvaliteta obučenih modela. Svrha povećanja slike je stvaranje novih uzoraka obuke postojećih podataka. "
      ]
    },
    {
      "cell_type": "markdown",
      "source": [
        "Potrebno je preuzeti skup podataka i raspakovati na lokaciji koja je dodjeljena projektu."
      ],
      "metadata": {
        "id": "POBDwtweGQz-"
      }
    },
    {
      "cell_type": "code",
      "execution_count": 47,
      "metadata": {
        "colab": {
          "base_uri": "https://localhost:8080/"
        },
        "id": "8hJiw26U72dn",
        "outputId": "d80b0edc-c6e6-4309-b11e-a9a6d0993664"
      },
      "outputs": [
        {
          "output_type": "stream",
          "name": "stdout",
          "text": [
            "--2022-07-14 18:25:48--  https://docs.google.com/uc?export=download&confirm=t&id=1zAz7WORXnMuOVZSQN_XJFQOLcdrVw3uo\n",
            "Resolving docs.google.com (docs.google.com)... 142.250.4.139, 142.250.4.100, 142.250.4.101, ...\n",
            "Connecting to docs.google.com (docs.google.com)|142.250.4.139|:443... connected.\n",
            "HTTP request sent, awaiting response... 303 See Other\n",
            "Location: https://doc-0g-3c-docs.googleusercontent.com/docs/securesc/ha0ro937gcuc7l7deffksulhg5h7mbp1/o7qcnhn6br5nfaudd2pcjfksaa65i2bs/1657823100000/12749817884604637057/*/1zAz7WORXnMuOVZSQN_XJFQOLcdrVw3uo?e=download&uuid=8e42845f-3925-4fc4-bb05-7bc4def21331 [following]\n",
            "Warning: wildcards not supported in HTTP.\n",
            "--2022-07-14 18:25:49--  https://doc-0g-3c-docs.googleusercontent.com/docs/securesc/ha0ro937gcuc7l7deffksulhg5h7mbp1/o7qcnhn6br5nfaudd2pcjfksaa65i2bs/1657823100000/12749817884604637057/*/1zAz7WORXnMuOVZSQN_XJFQOLcdrVw3uo?e=download&uuid=8e42845f-3925-4fc4-bb05-7bc4def21331\n",
            "Resolving doc-0g-3c-docs.googleusercontent.com (doc-0g-3c-docs.googleusercontent.com)... 172.217.194.132, 2404:6800:4003:c04::84\n",
            "Connecting to doc-0g-3c-docs.googleusercontent.com (doc-0g-3c-docs.googleusercontent.com)|172.217.194.132|:443... connected.\n",
            "HTTP request sent, awaiting response... 200 OK\n",
            "Length: 2265141455 (2.1G) [application/x-zip-compressed]\n",
            "Saving to: ‘images.zip’\n",
            "\n",
            "images.zip          100%[===================>]   2.11G  74.4MB/s    in 72s     \n",
            "\n",
            "2022-07-14 18:27:01 (30.2 MB/s) - ‘images.zip’ saved [2265141455/2265141455]\n",
            "\n"
          ]
        }
      ],
      "source": [
        "!wget --load-cookies /tmp/cookies.txt \"https://docs.google.com/uc?export=download&confirm=$(wget --quiet --save-cookies /tmp/cookies.txt --keep-session-cookies --no-check-certificate 'https://drive.google.com/u/0/uc?id=18_wYRTBTsoJ1mmqYLhwkpDLVTzBY-bVq&export=download' -O- | sed -rn 's/.*confirm=([0-9A-Za-z_]+).*/\\1\\n/p')&id=1zAz7WORXnMuOVZSQN_XJFQOLcdrVw3uo\" -O images.zip && rm -rf /tmp/cookies.txt"
      ]
    },
    {
      "cell_type": "code",
      "execution_count": null,
      "metadata": {
        "id": "B1HU0EOZJ8_8"
      },
      "outputs": [],
      "source": [
        "!unzip images.zip"
      ]
    },
    {
      "cell_type": "code",
      "execution_count": null,
      "metadata": {
        "colab": {
          "base_uri": "https://localhost:8080/"
        },
        "id": "iZGv3QjZKiZl",
        "outputId": "13ded79a-1909-41dc-a3c6-7db29ef58017"
      },
      "outputs": [
        {
          "name": "stdout",
          "output_type": "stream",
          "text": [
            "Cloning into 'esp'...\n",
            "remote: Enumerating objects: 92, done.\u001b[K\n",
            "remote: Total 92 (delta 0), reused 0 (delta 0), pack-reused 92\u001b[K\n",
            "Unpacking objects: 100% (92/92), done.\n"
          ]
        }
      ],
      "source": [
        "!git clone https://github.com/Bjarten/early-stopping-pytorch.git esp"
      ]
    },
    {
      "cell_type": "code",
      "execution_count": null,
      "metadata": {
        "colab": {
          "base_uri": "https://localhost:8080/"
        },
        "id": "8r3bxP_rgeMg",
        "outputId": "ac45fa06-a4db-4a64-be81-ecc3f937f35f"
      },
      "outputs": [
        {
          "name": "stdout",
          "output_type": "stream",
          "text": [
            "Looking in indexes: https://pypi.org/simple, https://us-python.pkg.dev/colab-wheels/public/simple/\n",
            "Collecting segmentation_models_pytorch\n",
            "  Downloading segmentation_models_pytorch-0.2.1-py3-none-any.whl (88 kB)\n",
            "\u001b[K     |████████████████████████████████| 88 kB 8.2 MB/s \n",
            "\u001b[?25hRequirement already satisfied: albumentations in /usr/local/lib/python3.7/dist-packages (0.1.12)\n",
            "Requirement already satisfied: torchvision>=0.5.0 in /usr/local/lib/python3.7/dist-packages (from segmentation_models_pytorch) (0.13.0+cu113)\n",
            "Collecting timm==0.4.12\n",
            "  Downloading timm-0.4.12-py3-none-any.whl (376 kB)\n",
            "\u001b[K     |████████████████████████████████| 376 kB 63.9 MB/s \n",
            "\u001b[?25hCollecting efficientnet-pytorch==0.6.3\n",
            "  Downloading efficientnet_pytorch-0.6.3.tar.gz (16 kB)\n",
            "Collecting pretrainedmodels==0.7.4\n",
            "  Downloading pretrainedmodels-0.7.4.tar.gz (58 kB)\n",
            "\u001b[K     |████████████████████████████████| 58 kB 7.6 MB/s \n",
            "\u001b[?25hRequirement already satisfied: torch in /usr/local/lib/python3.7/dist-packages (from efficientnet-pytorch==0.6.3->segmentation_models_pytorch) (1.12.0+cu113)\n",
            "Collecting munch\n",
            "  Downloading munch-2.5.0-py2.py3-none-any.whl (10 kB)\n",
            "Requirement already satisfied: tqdm in /usr/local/lib/python3.7/dist-packages (from pretrainedmodels==0.7.4->segmentation_models_pytorch) (4.64.0)\n",
            "Requirement already satisfied: typing-extensions in /usr/local/lib/python3.7/dist-packages (from torch->efficientnet-pytorch==0.6.3->segmentation_models_pytorch) (4.1.1)\n",
            "Requirement already satisfied: pillow!=8.3.*,>=5.3.0 in /usr/local/lib/python3.7/dist-packages (from torchvision>=0.5.0->segmentation_models_pytorch) (7.1.2)\n",
            "Requirement already satisfied: requests in /usr/local/lib/python3.7/dist-packages (from torchvision>=0.5.0->segmentation_models_pytorch) (2.23.0)\n",
            "Requirement already satisfied: numpy in /usr/local/lib/python3.7/dist-packages (from torchvision>=0.5.0->segmentation_models_pytorch) (1.21.6)\n",
            "Requirement already satisfied: scipy in /usr/local/lib/python3.7/dist-packages (from albumentations) (1.7.3)\n",
            "Requirement already satisfied: opencv-python in /usr/local/lib/python3.7/dist-packages (from albumentations) (4.1.2.30)\n",
            "Collecting imgaug<0.2.7,>=0.2.5\n",
            "  Downloading imgaug-0.2.6.tar.gz (631 kB)\n",
            "\u001b[K     |████████████████████████████████| 631 kB 66.5 MB/s \n",
            "\u001b[?25hRequirement already satisfied: scikit-image>=0.11.0 in /usr/local/lib/python3.7/dist-packages (from imgaug<0.2.7,>=0.2.5->albumentations) (0.18.3)\n",
            "Requirement already satisfied: six in /usr/local/lib/python3.7/dist-packages (from imgaug<0.2.7,>=0.2.5->albumentations) (1.15.0)\n",
            "Requirement already satisfied: tifffile>=2019.7.26 in /usr/local/lib/python3.7/dist-packages (from scikit-image>=0.11.0->imgaug<0.2.7,>=0.2.5->albumentations) (2021.11.2)\n",
            "Requirement already satisfied: matplotlib!=3.0.0,>=2.0.0 in /usr/local/lib/python3.7/dist-packages (from scikit-image>=0.11.0->imgaug<0.2.7,>=0.2.5->albumentations) (3.2.2)\n",
            "Requirement already satisfied: PyWavelets>=1.1.1 in /usr/local/lib/python3.7/dist-packages (from scikit-image>=0.11.0->imgaug<0.2.7,>=0.2.5->albumentations) (1.3.0)\n",
            "Requirement already satisfied: networkx>=2.0 in /usr/local/lib/python3.7/dist-packages (from scikit-image>=0.11.0->imgaug<0.2.7,>=0.2.5->albumentations) (2.6.3)\n",
            "Requirement already satisfied: imageio>=2.3.0 in /usr/local/lib/python3.7/dist-packages (from scikit-image>=0.11.0->imgaug<0.2.7,>=0.2.5->albumentations) (2.4.1)\n",
            "Requirement already satisfied: cycler>=0.10 in /usr/local/lib/python3.7/dist-packages (from matplotlib!=3.0.0,>=2.0.0->scikit-image>=0.11.0->imgaug<0.2.7,>=0.2.5->albumentations) (0.11.0)\n",
            "Requirement already satisfied: pyparsing!=2.0.4,!=2.1.2,!=2.1.6,>=2.0.1 in /usr/local/lib/python3.7/dist-packages (from matplotlib!=3.0.0,>=2.0.0->scikit-image>=0.11.0->imgaug<0.2.7,>=0.2.5->albumentations) (3.0.9)\n",
            "Requirement already satisfied: kiwisolver>=1.0.1 in /usr/local/lib/python3.7/dist-packages (from matplotlib!=3.0.0,>=2.0.0->scikit-image>=0.11.0->imgaug<0.2.7,>=0.2.5->albumentations) (1.4.3)\n",
            "Requirement already satisfied: python-dateutil>=2.1 in /usr/local/lib/python3.7/dist-packages (from matplotlib!=3.0.0,>=2.0.0->scikit-image>=0.11.0->imgaug<0.2.7,>=0.2.5->albumentations) (2.8.2)\n",
            "Requirement already satisfied: urllib3!=1.25.0,!=1.25.1,<1.26,>=1.21.1 in /usr/local/lib/python3.7/dist-packages (from requests->torchvision>=0.5.0->segmentation_models_pytorch) (1.24.3)\n",
            "Requirement already satisfied: certifi>=2017.4.17 in /usr/local/lib/python3.7/dist-packages (from requests->torchvision>=0.5.0->segmentation_models_pytorch) (2022.6.15)\n",
            "Requirement already satisfied: chardet<4,>=3.0.2 in /usr/local/lib/python3.7/dist-packages (from requests->torchvision>=0.5.0->segmentation_models_pytorch) (3.0.4)\n",
            "Requirement already satisfied: idna<3,>=2.5 in /usr/local/lib/python3.7/dist-packages (from requests->torchvision>=0.5.0->segmentation_models_pytorch) (2.10)\n",
            "Building wheels for collected packages: efficientnet-pytorch, pretrainedmodels, imgaug\n",
            "  Building wheel for efficientnet-pytorch (setup.py) ... \u001b[?25l\u001b[?25hdone\n",
            "  Created wheel for efficientnet-pytorch: filename=efficientnet_pytorch-0.6.3-py3-none-any.whl size=12421 sha256=7fa73af555376287fe38fc4edd3ec5c4d8c58065cca1b80e6884197af72123dd\n",
            "  Stored in directory: /root/.cache/pip/wheels/90/6b/0c/f0ad36d00310e65390b0d4c9218ae6250ac579c92540c9097a\n",
            "  Building wheel for pretrainedmodels (setup.py) ... \u001b[?25l\u001b[?25hdone\n",
            "  Created wheel for pretrainedmodels: filename=pretrainedmodels-0.7.4-py3-none-any.whl size=60965 sha256=c6725ce13ddadedfe32eae9534af39d3029755280a403f5c69f932138a8fa487\n",
            "  Stored in directory: /root/.cache/pip/wheels/ed/27/e8/9543d42de2740d3544db96aefef63bda3f2c1761b3334f4873\n",
            "  Building wheel for imgaug (setup.py) ... \u001b[?25l\u001b[?25hdone\n",
            "  Created wheel for imgaug: filename=imgaug-0.2.6-py3-none-any.whl size=654017 sha256=89d4cab79ad869c24aacb7e9fc2af20aabd584a52e7554e1b2222de4185f3b96\n",
            "  Stored in directory: /root/.cache/pip/wheels/89/72/98/3ebfdba1069a9a8eaaa7ae7265cfd67d63ef0197aaee2e5f9c\n",
            "Successfully built efficientnet-pytorch pretrainedmodels imgaug\n",
            "Installing collected packages: munch, timm, pretrainedmodels, imgaug, efficientnet-pytorch, segmentation-models-pytorch\n",
            "  Attempting uninstall: imgaug\n",
            "    Found existing installation: imgaug 0.2.9\n",
            "    Uninstalling imgaug-0.2.9:\n",
            "      Successfully uninstalled imgaug-0.2.9\n",
            "Successfully installed efficientnet-pytorch-0.6.3 imgaug-0.2.6 munch-2.5.0 pretrainedmodels-0.7.4 segmentation-models-pytorch-0.2.1 timm-0.4.12\n",
            "Looking in indexes: https://pypi.org/simple, https://us-python.pkg.dev/colab-wheels/public/simple/\n",
            "Collecting git+https://github.com/albu/albumentations\n",
            "  Cloning https://github.com/albu/albumentations to /tmp/pip-req-build-jhydd1bh\n",
            "  Running command git clone -q https://github.com/albu/albumentations /tmp/pip-req-build-jhydd1bh\n",
            "Requirement already satisfied: numpy>=1.11.1 in /usr/local/lib/python3.7/dist-packages (from albumentations==1.2.1) (1.21.6)\n",
            "Requirement already satisfied: scipy in /usr/local/lib/python3.7/dist-packages (from albumentations==1.2.1) (1.7.3)\n",
            "Requirement already satisfied: scikit-image>=0.16.1 in /usr/local/lib/python3.7/dist-packages (from albumentations==1.2.1) (0.18.3)\n",
            "Requirement already satisfied: PyYAML in /usr/local/lib/python3.7/dist-packages (from albumentations==1.2.1) (3.13)\n",
            "Collecting qudida>=0.0.4\n",
            "  Downloading qudida-0.0.4-py3-none-any.whl (3.5 kB)\n",
            "Requirement already satisfied: opencv-python>=4.1.1 in /usr/local/lib/python3.7/dist-packages (from albumentations==1.2.1) (4.1.2.30)\n",
            "Collecting opencv-python-headless>=4.0.1\n",
            "  Downloading opencv_python_headless-4.6.0.66-cp36-abi3-manylinux_2_17_x86_64.manylinux2014_x86_64.whl (48.3 MB)\n",
            "\u001b[K     |████████████████████████████████| 48.3 MB 1.4 MB/s \n",
            "\u001b[?25hRequirement already satisfied: scikit-learn>=0.19.1 in /usr/local/lib/python3.7/dist-packages (from qudida>=0.0.4->albumentations==1.2.1) (1.0.2)\n",
            "Requirement already satisfied: typing-extensions in /usr/local/lib/python3.7/dist-packages (from qudida>=0.0.4->albumentations==1.2.1) (4.1.1)\n",
            "Requirement already satisfied: imageio>=2.3.0 in /usr/local/lib/python3.7/dist-packages (from scikit-image>=0.16.1->albumentations==1.2.1) (2.4.1)\n",
            "Requirement already satisfied: networkx>=2.0 in /usr/local/lib/python3.7/dist-packages (from scikit-image>=0.16.1->albumentations==1.2.1) (2.6.3)\n",
            "Requirement already satisfied: PyWavelets>=1.1.1 in /usr/local/lib/python3.7/dist-packages (from scikit-image>=0.16.1->albumentations==1.2.1) (1.3.0)\n",
            "Requirement already satisfied: matplotlib!=3.0.0,>=2.0.0 in /usr/local/lib/python3.7/dist-packages (from scikit-image>=0.16.1->albumentations==1.2.1) (3.2.2)\n",
            "Requirement already satisfied: pillow!=7.1.0,!=7.1.1,>=4.3.0 in /usr/local/lib/python3.7/dist-packages (from scikit-image>=0.16.1->albumentations==1.2.1) (7.1.2)\n",
            "Requirement already satisfied: tifffile>=2019.7.26 in /usr/local/lib/python3.7/dist-packages (from scikit-image>=0.16.1->albumentations==1.2.1) (2021.11.2)\n",
            "Requirement already satisfied: python-dateutil>=2.1 in /usr/local/lib/python3.7/dist-packages (from matplotlib!=3.0.0,>=2.0.0->scikit-image>=0.16.1->albumentations==1.2.1) (2.8.2)\n",
            "Requirement already satisfied: pyparsing!=2.0.4,!=2.1.2,!=2.1.6,>=2.0.1 in /usr/local/lib/python3.7/dist-packages (from matplotlib!=3.0.0,>=2.0.0->scikit-image>=0.16.1->albumentations==1.2.1) (3.0.9)\n",
            "Requirement already satisfied: cycler>=0.10 in /usr/local/lib/python3.7/dist-packages (from matplotlib!=3.0.0,>=2.0.0->scikit-image>=0.16.1->albumentations==1.2.1) (0.11.0)\n",
            "Requirement already satisfied: kiwisolver>=1.0.1 in /usr/local/lib/python3.7/dist-packages (from matplotlib!=3.0.0,>=2.0.0->scikit-image>=0.16.1->albumentations==1.2.1) (1.4.3)\n",
            "Requirement already satisfied: six>=1.5 in /usr/local/lib/python3.7/dist-packages (from python-dateutil>=2.1->matplotlib!=3.0.0,>=2.0.0->scikit-image>=0.16.1->albumentations==1.2.1) (1.15.0)\n",
            "Requirement already satisfied: threadpoolctl>=2.0.0 in /usr/local/lib/python3.7/dist-packages (from scikit-learn>=0.19.1->qudida>=0.0.4->albumentations==1.2.1) (3.1.0)\n",
            "Requirement already satisfied: joblib>=0.11 in /usr/local/lib/python3.7/dist-packages (from scikit-learn>=0.19.1->qudida>=0.0.4->albumentations==1.2.1) (1.1.0)\n",
            "Building wheels for collected packages: albumentations\n",
            "  Building wheel for albumentations (setup.py) ... \u001b[?25l\u001b[?25hdone\n",
            "  Created wheel for albumentations: filename=albumentations-1.2.1-py3-none-any.whl size=116663 sha256=b3c1603ffb471697ee92bed057381a6cef26787680bbf5c8dd48018e5f776d26\n",
            "  Stored in directory: /tmp/pip-ephem-wheel-cache-a5p0bxnz/wheels/63/11/1a/c77caf3ae9b9b6d57b3ee5e6a41a50f3bc12c66a70f6b90bf0\n",
            "Successfully built albumentations\n",
            "Installing collected packages: opencv-python-headless, qudida, albumentations\n",
            "  Attempting uninstall: albumentations\n",
            "    Found existing installation: albumentations 0.1.12\n",
            "    Uninstalling albumentations-0.1.12:\n",
            "      Successfully uninstalled albumentations-0.1.12\n",
            "Successfully installed albumentations-1.2.1 opencv-python-headless-4.6.0.66 qudida-0.0.4\n"
          ]
        }
      ],
      "source": [
        "! pip install segmentation_models_pytorch albumentations\n",
        "! pip install -U git+https://github.com/albu/albumentations --no-cache-dir"
      ]
    },
    {
      "cell_type": "markdown",
      "source": [
        "Nakon učitanog skupa podataka neophodno je uvesti i biblioteke uz kojih će se lakše i efikasnije uraditi proejkat. Za ovaj projekat koristi se PyTorch, odnosno torchvision biblioteka koja je namjenjena za računarsku viziju.\n",
        "Pored toga biće potrebne biblioteke za rad sa slikama, listama i grafičkim prikazima."
      ],
      "metadata": {
        "id": "xNc5-oQGG10W"
      }
    },
    {
      "cell_type": "code",
      "execution_count": 49,
      "metadata": {
        "id": "9iwMR9xEKlqc"
      },
      "outputs": [],
      "source": [
        "import torch\n",
        "import torch.nn as nn\n",
        "import torch.optim as optim\n",
        "from torch.optim import lr_scheduler\n",
        "from torch.utils.data import Dataset, DataLoader\n",
        "import torchvision \n",
        "from torchvision import transforms\n",
        "\n",
        "import pandas as pd\n",
        "import numpy as np\n",
        "import os\n",
        "import random\n",
        "\n",
        "from torchvision import transforms\n",
        "from PIL import Image\n",
        "\n",
        "import torchvision\n",
        "import torchvision.transforms as T\n",
        "\n",
        "import segmentation_models_pytorch as smp\n",
        "from esp.pytorchtools import EarlyStopping\n",
        "\n",
        "import matplotlib.pyplot as plt"
      ]
    },
    {
      "cell_type": "code",
      "execution_count": 50,
      "metadata": {
        "id": "TZ1H_Cu3Kwt0"
      },
      "outputs": [],
      "source": [
        "def save_checkpoint(self, val_loss, model):\n",
        "    import pickle       \n",
        "    if self.verbose:\n",
        "        self.trace_func(f'Validation loss decreased ({self.val_loss_min:.6f} --> {val_loss:.6f}).  Saving model ...')\n",
        "    with open(self.path, 'wb') as f:\n",
        "        pickle.dump(model, f) # torch.save(model.state_dict(), self.path)\n",
        "    self.val_loss_min = val_loss"
      ]
    },
    {
      "cell_type": "markdown",
      "source": [
        "EarlyStopping klasa omogućuje praćenje validation loss tokom treniranja modela. Sačuvaće checkpoint za model svaki put kada se validation loss smanji."
      ],
      "metadata": {
        "id": "OrClTPo8Hwmg"
      }
    },
    {
      "cell_type": "code",
      "execution_count": 52,
      "metadata": {
        "id": "rRW0ZW5-KyyL"
      },
      "outputs": [],
      "source": [
        "EarlyStopping.save_checkpoint = save_checkpoint"
      ]
    },
    {
      "cell_type": "markdown",
      "source": [
        "Radi efikasnijeg snalaženja kreiraju se konstante koje predstavljaju putanje prema odgovarajućim fajlovima."
      ],
      "metadata": {
        "id": "YjVplNmWIPj4"
      }
    },
    {
      "cell_type": "code",
      "execution_count": 53,
      "metadata": {
        "id": "ajguizkCK1nN"
      },
      "outputs": [],
      "source": [
        "TRAIN_PATH = 'train'\n",
        "TEST_PATH = 'test'\n",
        "\n",
        "TRAIN_CSV_PATH = 'train_annotation.csv'\n",
        "TEST_PATH = 'test'"
      ]
    },
    {
      "cell_type": "markdown",
      "source": [
        "Nakon što smo povezali rute, učitavamo nekoliko fotografije iz dataseta. Prikazaćemo prve tri slike i njima odgovarajuće maske u okviru jednog reda."
      ],
      "metadata": {
        "id": "q6VY5U1CI6vu"
      }
    },
    {
      "cell_type": "code",
      "execution_count": 61,
      "metadata": {
        "colab": {
          "base_uri": "https://localhost:8080/",
          "height": 130
        },
        "id": "Xju-xkoWK5Ut",
        "outputId": "83bb45be-dc95-4c3e-adea-bab4fdd2cc6c"
      },
      "outputs": [
        {
          "output_type": "execute_result",
          "data": {
            "text/plain": [
              "<matplotlib.image.AxesImage at 0x7f476e3499d0>"
            ]
          },
          "metadata": {},
          "execution_count": 61
        },
        {
          "output_type": "display_data",
          "data": {
            "text/plain": [
              "<Figure size 1152x864 with 9 Axes>"
            ],
            "image/png": "[encoded data removed]"
          },
          "metadata": {
            "needs_background": "light"
          }
        }
      ],
      "source": [
        "image1 = np.array(Image.open(\"train/\"+\"1_1.tif\"))\n",
        "image1_mask = np.array(Image.open(\"train/\"+\"1_1_mask.tif\"))\n",
        "image1_mask = np.ma.masked_where(image1_mask == 0, image1_mask)\n",
        "\n",
        "image2 = np.array(Image.open(\"train/\"+\"1_2.tif\"))\n",
        "image2_mask = np.array(Image.open(\"train/\"+\"1_2_mask.tif\"))\n",
        "image2_mask = np.ma.masked_where(image2_mask == 0, image2_mask)\n",
        "\n",
        "image3 = np.array(Image.open(\"train/\"+\"1_3.tif\"))\n",
        "image3_mask = np.array(Image.open(\"train/\"+\"1_3_mask.tif\"))\n",
        "image3_mask = np.ma.masked_where(image3_mask == 0, image3_mask)\n",
        "\n",
        "fig, ax = plt.subplots(1,9,figsize = (16,12))\n",
        "ax[0].imshow(image1, cmap = 'gray')\n",
        "\n",
        "ax[1].imshow(image1_mask, cmap = 'gray')\n",
        "\n",
        "ax[2].imshow(image1, cmap = 'gray', interpolation = 'none')\n",
        "ax[2].imshow(image1_mask, cmap = 'jet', interpolation = 'none', alpha = 0.7)\n",
        "\n",
        "ax[3].imshow(image2, cmap = 'gray')\n",
        "\n",
        "ax[4].imshow(image2_mask, cmap = 'gray')\n",
        "\n",
        "ax[5].imshow(image2, cmap = 'gray', interpolation = 'none')\n",
        "ax[5].imshow(image2_mask, cmap = 'jet', interpolation = 'none', alpha = 0.7)\n",
        "\n",
        "ax[6].imshow(image3, cmap = 'gray')\n",
        "\n",
        "ax[7].imshow(image3_mask, cmap = 'gray')\n",
        "\n",
        "ax[8].imshow(image3, cmap = 'gray', interpolation = 'none')\n",
        "ax[8].imshow(image3_mask, cmap = 'jet', interpolation = 'none', alpha = 0.7)"
      ]
    },
    {
      "cell_type": "code",
      "execution_count": 55,
      "metadata": {
        "id": "8otnOAaPtN7Z"
      },
      "outputs": [],
      "source": [
        "def create_csv(data_path, out_csv_path, key_word='mask'):\n",
        "    to_delete = f'_{key_word}'\n",
        "\n",
        "    for file_name in os.listdir(data_path):\n",
        "        if key_word in file_name:\n",
        "            img = file_name.replace(to_delete, '')\n",
        "            data = pd.DataFrame([img], index=['img']).transpose()\n",
        "            data.insert(0, 'mask', file_name)\n",
        "\n",
        "        else:                \n",
        "            if not os.path.exists(out_csv_path):\n",
        "                data.to_csv(out_csv_path, header=True, index=False)\n",
        "            else:\n",
        "                data.to_csv(out_csv_path, mode='a', header=False, index=False)"
      ]
    },
    {
      "cell_type": "markdown",
      "source": [
        "Kreiranje fajla u kojem je upisana matrica sa slikama i njihovim odgovarajućim maskama."
      ],
      "metadata": {
        "id": "ld5QkJErJLZs"
      }
    },
    {
      "cell_type": "code",
      "execution_count": 56,
      "metadata": {
        "id": "pkC0WgTbtVIg"
      },
      "outputs": [],
      "source": [
        "create_csv(data_path=TRAIN_PATH, out_csv_path=TRAIN_CSV_PATH)"
      ]
    },
    {
      "cell_type": "markdown",
      "source": [
        "Pravljenje Dataseta za model, smeštanje učitanih slika za trening i maski za trening."
      ],
      "metadata": {
        "id": "fLBED-8hJT_V"
      }
    },
    {
      "cell_type": "code",
      "execution_count": 57,
      "metadata": {
        "id": "5ZzRaxz-th35"
      },
      "outputs": [],
      "source": [
        "class ImageDataset(Dataset):\n",
        "    def __init__(self, df, root_dir, transform=None):\n",
        "        self.df = df\n",
        "        self.root_dir = root_dir\n",
        "        self.transform = transform\n",
        "    \n",
        "    def __len__(self):\n",
        "        return len(self.df)\n",
        "    \n",
        "    def __getitem__(self, idx):\n",
        "        if torch.is_tensor(idx):\n",
        "            idx = idx.tolist()\n",
        "       \n",
        "        mask = Image.open(os.path.join(self.root_dir, self.df.iloc[idx, 0]))\n",
        "        image = Image.open(os.path.join(self.root_dir, self.df.iloc[idx, 1]))  \n",
        "    \n",
        "        if self.transform:\n",
        "            return self.transform(image), self.transform(mask)\n",
        "    \n",
        "        return image, mask"
      ]
    },
    {
      "cell_type": "code",
      "execution_count": 58,
      "metadata": {
        "id": "m1uPurJntwhj"
      },
      "outputs": [],
      "source": [
        "train_df = pd.read_csv(TRAIN_CSV_PATH)"
      ]
    },
    {
      "cell_type": "code",
      "execution_count": 59,
      "metadata": {
        "colab": {
          "base_uri": "https://localhost:8080/",
          "height": 206
        },
        "id": "1ZFEDbaFt4Yg",
        "outputId": "c1393dbc-a648-4948-d4c9-f164f0f0854f"
      },
      "outputs": [
        {
          "output_type": "execute_result",
          "data": {
            "text/plain": [
              "              mask         img\n",
              "0   32_96_mask.tif   32_96.tif\n",
              "1   19_62_mask.tif   19_62.tif\n",
              "2   19_62_mask.tif   19_62.tif\n",
              "3  44_106_mask.tif  44_106.tif\n",
              "4   13_45_mask.tif   13_45.tif"
            ],
            "text/html": [
              "\n",
              "  <div id=\"df-a2c8c6cf-15a0-4d6b-abe9-362147a41a62\">\n",
              "    <div class=\"colab-df-container\">\n",
              "      <div>\n",
              "<style scoped>\n",
              "    .dataframe tbody tr th:only-of-type {\n",
              "        vertical-align: middle;\n",
              "    }\n",
              "\n",
              "    .dataframe tbody tr th {\n",
              "        vertical-align: top;\n",
              "    }\n",
              "\n",
              "    .dataframe thead th {\n",
              "        text-align: right;\n",
              "    }\n",
              "</style>\n",
              "<table border=\"1\" class=\"dataframe\">\n",
              "  <thead>\n",
              "    <tr style=\"text-align: right;\">\n",
              "      <th></th>\n",
              "      <th>mask</th>\n",
              "      <th>img</th>\n",
              "    </tr>\n",
              "  </thead>\n",
              "  <tbody>\n",
              "    <tr>\n",
              "      <th>0</th>\n",
              "      <td>32_96_mask.tif</td>\n",
              "      <td>32_96.tif</td>\n",
              "    </tr>\n",
              "    <tr>\n",
              "      <th>1</th>\n",
              "      <td>19_62_mask.tif</td>\n",
              "      <td>19_62.tif</td>\n",
              "    </tr>\n",
              "    <tr>\n",
              "      <th>2</th>\n",
              "      <td>19_62_mask.tif</td>\n",
              "      <td>19_62.tif</td>\n",
              "    </tr>\n",
              "    <tr>\n",
              "      <th>3</th>\n",
              "      <td>44_106_mask.tif</td>\n",
              "      <td>44_106.tif</td>\n",
              "    </tr>\n",
              "    <tr>\n",
              "      <th>4</th>\n",
              "      <td>13_45_mask.tif</td>\n",
              "      <td>13_45.tif</td>\n",
              "    </tr>\n",
              "  </tbody>\n",
              "</table>\n",
              "</div>\n",
              "      <button class=\"colab-df-convert\" onclick=\"convertToInteractive('df-a2c8c6cf-15a0-4d6b-abe9-362147a41a62')\"\n",
              "              title=\"Convert this dataframe to an interactive table.\"\n",
              "              style=\"display:none;\">\n",
              "        \n",
              "  <svg xmlns=\"http://www.w3.org/2000/svg\" height=\"24px\"viewBox=\"0 0 24 24\"\n",
              "       width=\"24px\">\n",
              "    <path d=\"M0 0h24v24H0V0z\" fill=\"none\"/>\n",
              "    <path d=\"M18.56 5.44l.94 2.06.94-2.06 2.06-.94-2.06-.94-.94-2.06-.94 2.06-2.06.94zm-11 1L8.5 8.5l.94-2.06 2.06-.94-2.06-.94L8.5 2.5l-.94 2.06-2.06.94zm10 10l.94 2.06.94-2.06 2.06-.94-2.06-.94-.94-2.06-.94 2.06-2.06.94z\"/><path d=\"M17.41 7.96l-1.37-1.37c-.4-.4-.92-.59-1.43-.59-.52 0-1.04.2-1.43.59L10.3 9.45l-7.72 7.72c-.78.78-.78 2.05 0 2.83L4 21.41c.39.39.9.59 1.41.59.51 0 1.02-.2 1.41-.59l7.78-7.78 2.81-2.81c.8-.78.8-2.07 0-2.86zM5.41 20L4 18.59l7.72-7.72 1.47 1.35L5.41 20z\"/>\n",
              "  </svg>\n",
              "      </button>\n",
              "      \n",
              "  <style>\n",
              "    .colab-df-container {\n",
              "      display:flex;\n",
              "      flex-wrap:wrap;\n",
              "      gap: 12px;\n",
              "    }\n",
              "\n",
              "    .colab-df-convert {\n",
              "      background-color: #E8F0FE;\n",
              "      border: none;\n",
              "      border-radius: 50%;\n",
              "      cursor: pointer;\n",
              "      display: none;\n",
              "      fill: #1967D2;\n",
              "      height: 32px;\n",
              "      padding: 0 0 0 0;\n",
              "      width: 32px;\n",
              "    }\n",
              "\n",
              "    .colab-df-convert:hover {\n",
              "      background-color: #E2EBFA;\n",
              "      box-shadow: 0px 1px 2px rgba(60, 64, 67, 0.3), 0px 1px 3px 1px rgba(60, 64, 67, 0.15);\n",
              "      fill: #174EA6;\n",
              "    }\n",
              "\n",
              "    [theme=dark] .colab-df-convert {\n",
              "      background-color: #3B4455;\n",
              "      fill: #D2E3FC;\n",
              "    }\n",
              "\n",
              "    [theme=dark] .colab-df-convert:hover {\n",
              "      background-color: #434B5C;\n",
              "      box-shadow: 0px 1px 3px 1px rgba(0, 0, 0, 0.15);\n",
              "      filter: drop-shadow(0px 1px 2px rgba(0, 0, 0, 0.3));\n",
              "      fill: #FFFFFF;\n",
              "    }\n",
              "  </style>\n",
              "\n",
              "      <script>\n",
              "        const buttonEl =\n",
              "          document.querySelector('#df-a2c8c6cf-15a0-4d6b-abe9-362147a41a62 button.colab-df-convert');\n",
              "        buttonEl.style.display =\n",
              "          google.colab.kernel.accessAllowed ? 'block' : 'none';\n",
              "\n",
              "        async function convertToInteractive(key) {\n",
              "          const element = document.querySelector('#df-a2c8c6cf-15a0-4d6b-abe9-362147a41a62');\n",
              "          const dataTable =\n",
              "            await google.colab.kernel.invokeFunction('convertToInteractive',\n",
              "                                                     [key], {});\n",
              "          if (!dataTable) return;\n",
              "\n",
              "          const docLinkHtml = 'Like what you see? Visit the ' +\n",
              "            '<a target=\"_blank\" href=https://colab.research.google.com/notebooks/data_table.ipynb>data table notebook</a>'\n",
              "            + ' to learn more about interactive tables.';\n",
              "          element.innerHTML = '';\n",
              "          dataTable['output_type'] = 'display_data';\n",
              "          await google.colab.output.renderOutput(dataTable, element);\n",
              "          const docLink = document.createElement('div');\n",
              "          docLink.innerHTML = docLinkHtml;\n",
              "          element.appendChild(docLink);\n",
              "        }\n",
              "      </script>\n",
              "    </div>\n",
              "  </div>\n",
              "  "
            ]
          },
          "metadata": {},
          "execution_count": 59
        }
      ],
      "source": [
        "train_df.head()"
      ]
    },
    {
      "cell_type": "code",
      "execution_count": 60,
      "metadata": {
        "id": "zC2xMjuYuZiP"
      },
      "outputs": [],
      "source": [
        "train_samples = ImageDataset(df=train_df, root_dir=TRAIN_PATH)"
      ]
    },
    {
      "cell_type": "markdown",
      "source": [
        "Prikaz par slika za treniranje sa identifikovanim nervima.\n"
      ],
      "metadata": {
        "id": "V-jGmEsLJhIh"
      }
    },
    {
      "cell_type": "code",
      "execution_count": null,
      "metadata": {
        "id": "4bU6e5UxuvtM"
      },
      "outputs": [],
      "source": [
        "def draw_samples(data, n_col, n_row):\n",
        "    fig = plt.figure(figsize=(15, 5))\n",
        "        \n",
        "    for i in range(1, n_col + 1):\n",
        "        img_ax = fig.add_subplot(n_row, n_col, i)\n",
        "        msk_ax = fig.add_subplot(n_row, n_col, i + n_col)\n",
        "        \n",
        "        img_ax.imshow(data[i-1][0], cmap='gray')\n",
        "        msk_ax.imshow(data[i-1][1], cmap='gray')\n",
        "        \n",
        "    fig.show()  "
      ]
    },
    {
      "cell_type": "markdown",
      "source": [
        "\n",
        "Open In Colab\n",
        "\n",
        "Projektni zadatak: Segmentacija slike\n",
        "\n",
        "Segmentacija medicinskih slika ima veoma veliku ulogu u medicini što omogućava primenu različitih algoritama na snimke kao što su mikroskopija, rendgen, ultrazvuk, magnetna rezonansa i slično. Na ovaj način, slike se dele u odgovarajuće piksele tj. dele se na osnovu određenog područja ili kategorije što znatno pomaže medicinskom osoblju u bržem, boljem i kvalitetnijem otkrivanju anomalija na pomenutim snimcima. S obzriom da su medicinske fotografije veoma promenljive prirode i da predstavljaju individualno stanje svakog pojedinca, kreiranje algoritama za segmentaciju ovakvih slika veoma je kompleksan zadatak.\n",
        "\n",
        "Set podataka koji je dobijen za izradu ovog projektnog zadatka odnosi se na fotografije ultrazvuka nerava ljudskog tela. Ultrazvučne slike pomažu u otkrivanju bolova, oticanja i infekcija u ljudskim organima. Znatno su jeftinije nego slike CT-a i magnetne rezonanse.\n",
        "\n",
        "Za treniranje modela postoje različite metode i arhitekture a neke od njih su: potpuno konvolucione neuronske mreže, neuronske mreže enkodera-dekodera, periodične neuronske mreže, generativne kontradiktorne mreže itd...\n",
        "\n",
        "Glavnu ulogu u segmentaciji slike ima set podataka kojim se manipuliše. Potrebno je razumevanje i poznavanje seta podataka kako bi se razumelo na koji način je najbolje raditi sa njim. U ovom slučaju, set podataka je podeljen na dva glavna foldera i to su train i test.\n",
        "\n",
        "U train folderu nalaze se fotografije koje u svom nazivu sadrže ili ne sadrže \"mask\". Fotografije koje ne sadrže mask u sebi, predstavljaju fotografije koje se ubacuju u odredjeni algoritam i na osnovu kojih algoritam vrši predikciju. Sa druge strane, \"mask\" fotografije podrazumevaju ono šta algoritam treba da izbaci. U velikom broju slučajeva, algoritam ne izbacuje masku kao što je očekivana jer to zavisi od istreniranosti modela koji se koristi i primenjuje na set podataka. Na osnovu razlike slike ultrazvuka nerava i njegove odgovarajuće maske, računa se greška.\n",
        "\n",
        "Test folder je folder slika koji nam služi za testiranje, tačnije, on se ne trenira. Na kraju, kada dodjemo do određene preciznosti treniranja, proveravaju se rezultati i generišu se zaključci koji se odnose na rezultate algoritma.\n",
        "\n",
        "PRILOŽEN KOD\n",
        "\n",
        "Početak ovog projekta, rezervisan je za instaliranje odgovarajućih biblioteka koje su neophodne za njegovu realizaciju. Prva biblioteka (segmentation_models_pytorch albumentations) zasnovana je na PyTorch-u. To je biblioteka koja se koristi za deep learning aplikacije koje koriste GPU ili CPU. Pored ove biblioteke, neke od poznatijih su Tensorflow i Keras. Takođe, kao što je pomenuto, hardware acceleration za izradu ovog projektnog zadatka podešen je na GPU. Hardversko ubrzanje predstavlja proces kojim će aplikacija rasteretiri određene računarske zadatke na specijalizovane hardverske komponente u sistemu i na taj način će se omogućiti veća efikasnost nego što je to moguće u softveru koji radi samo na CPU opšte namene.\n",
        "\n",
        "*GPU - Graphics Processing Units *(Jedinice za orbadu grafike) koriste se za proračune koji uključuju velike količine podataka.\n",
        "\n",
        "Sledeća instalacija odnosi se na instalaciju albumentations biblioteke. To je Python biblioteka za povećavanje kvaliteta obučenih modela. Svrha povećanja slike je stvaranje novih uzoraka obuke postojećih podataka. Ova biblioteka pruža jednostavan rad sa svim tipovima podataka kao što su RBG slike, slike u sivim tonovima, maske za segmentaciju, okviri za ograničavanje i ključne tačke.\n",
        "\n",
        "[ ]\n",
        "! pip install segmentation_models_pytorch albumentations\n",
        "! pip install -U git+https://github.com/albu/albumentations --no-cache-dir\n",
        "\n",
        "Drugi korak je importovanje. Prilikom importovanja obavljaju se dve operacije, traži se odgovarajući modul a zatim se rezultati pretrage tog modula vezuju za odredjene opsege.\n",
        "\n",
        "[ ]\n",
        "import os \n",
        "import csv \n",
        "import re \n",
        "import numpy as np \n",
        "import pandas as pd \n",
        "import matplotlib.pyplot as plt \n",
        "import itertools \n",
        "import cv2\n",
        "from tqdm.notebook import tqdm\n",
        "from glob import glob\n",
        "from PIL import Image\n",
        "from skimage.transform import resize\n",
        "from sklearn.model_selection import train_test_split, KFold\n",
        "import shutil\n",
        "import torch\n",
        "from torch.utils.data import DataLoader,Dataset\n",
        "import torch.nn as nn\n",
        "import albumentations\n",
        "import torchvision \n",
        "from torchvision import transforms, models\n",
        "import random\n",
        "import segmentation_models_pytorch as smp\n",
        "from PIL import Image\n",
        "Definisanje ruta gde se nalaze podaci. U ovom koraku, definišemo glavnu rutu sa folderima i to je ruta koja vodi do foldera na MyDrive-u gde se nalaze podaci. Ruta trainpath odnosi se na rutu za train folder, koji služi za treniranje kako je već ranije i napomenuto, dok ruta testpath se odnosi na folder za testiranje podataka.\n",
        "\n",
        "[ ]\n",
        "ruta = \"/content/drive/MyDrive/#8\"\n",
        "trainpath = \"/content/drive/MyDrive/#8/train\" \n",
        "testpath = \"/content/drive/MyDrive/#8/test\"\n",
        "\n",
        "masks = [os.path.join(trainpath,i) for i in os.listdir(trainpath) if \"mask\" in i]\n",
        "imgs = [i.replace(\"_mask\",\"\") for i in masks]\n",
        "\n",
        "df = pd.DataFrame({\"image\":imgs,\"mask\":masks})\n",
        "\n",
        "df_train, df_val = train_test_split(df,test_size = 0.15)\n",
        "\n",
        "\n",
        "Nakon što smo povezali rute, učitavamo nekoliko fotografije iz dataseta na nasumičan način putem importovane funkcije random i fotografije ce biti prikazene u tri reda i tri kolone.\n",
        "\n",
        "[ ]\n",
        "rows,cols=3,3\n",
        "fig=plt.figure(figsize=(10,10)) \n",
        "for i in range(1,rows*cols+1): \n",
        "    ii = random.randint(0, len(df)) \n",
        "    fig.add_subplot(rows,cols,i) \n",
        "    img_path=df['image'][ii]\n",
        "    msk_path=df['mask'][ii]\n",
        "    plt.imshow(np.array(Image.open(img_path)), cmap = 'gray') \n",
        "    plt.imshow(np.array(Image.open(msk_path)),alpha=0.4, cmap = 'gray') \n",
        "plt.show() \n",
        "\n",
        "Podesavanje odredjenih parametara za testiranje i kreiranje klase DataSet\n",
        "\n",
        "[ ]\n",
        "def rle_encoding(x):\n",
        "    dots = np.where(x.T.flatten()==1)[0]\n",
        "    run_lengths = []\n",
        "    prev = -2\n",
        "    for b in dots:\n",
        "        if (b>prev+1): run_lengths.extend((b+1, 0))\n",
        "        run_lengths[-1] += 1\n",
        "        prev = b\n",
        "    return run_lengths\n",
        "\n",
        "\n",
        "MODEL - deo koji se čuva nakon pokretanja algoritma mašinskog učenja nad podacima za obučavanje i predstavlja određena pravila koja su neophodna algoritmu za predviđanja. Reprezentuje kako da odredjene inpute pretvorimo u outpute"
      ],
      "metadata": {
        "id": "-WDp1HSNJ2VT"
      }
    },
    {
      "cell_type": "code",
      "execution_count": null,
      "metadata": {
        "colab": {
          "base_uri": "https://localhost:8080/",
          "height": 274
        },
        "id": "nEdHa_omvNHu",
        "outputId": "b65c22d2-315a-456d-de37-2772ffadeead"
      },
      "outputs": [
        {
          "data": {
            "image/png": "[encoded data removed]",
            "text/plain": [
              "<Figure size 1080x360 with 14 Axes>"
            ]
          },
          "metadata": {},
          "output_type": "display_data"
        }
      ],
      "source": [
        " draw_samples(data=train_samples, n_col=7, n_row=2)"
      ]
    },
    {
      "cell_type": "markdown",
      "source": [
        "***MODEL*** - deo koji se čuva nakon pokretanja algoritma mašinskog učenja nad podacima za obučavanje i predstavlja određena pravila koja su neophodna algoritmu za predviđanja. Reprezentuje kako da odredjene inpute pretvorimo u outpute.  Postoji lista podržanih kodera u SMP-u, bira se odgovarajuća porodica enkodera i u okviru nje se bira konkretan enkoder koji dolazi sa unapred natreniranim težinama."
      ],
      "metadata": {
        "id": "dQBtqNP8J-tN"
      }
    },
    {
      "cell_type": "code",
      "execution_count": null,
      "metadata": {
        "id": "coF0qlFWvPMd"
      },
      "outputs": [],
      "source": [
        "ENCODER = 'vgg11_bn'\n",
        "ENCODER_WEIGHTS = 'imagenet'\n",
        "ACTIVATION = 'sigmoid'\n",
        "DEVICE = torch.device('cuda' if torch.cuda.is_available() else 'cpu')"
      ]
    },
    {
      "cell_type": "code",
      "execution_count": null,
      "metadata": {
        "colab": {
          "base_uri": "https://localhost:8080/",
          "height": 66,
          "referenced_widgets": [
            "999c2670c2394513b517dea89ba6886c",
            "22fae37f25d7469dbea5aafac92bfe7c",
            "4fa77f85f5394cf1a070474d2e688114",
            "5ff9fba0677c43028bdfac5504afd12c",
            "6ff6cc1831c14e92bf2e9c807f79ee66",
            "a04d00c66a914c7faac207a2ea7224af",
            "00161eca441a4c759de82576810e8516",
            "c6fb7269154d4898b1e93bf51660dccc",
            "704e3110628f4c9aa5313ebf83c1df5d",
            "94f7def8cf734e9e9238333bfdd76bee",
            "06309e23c2a54a38a18907e0dbdb91c5"
          ]
        },
        "id": "dHAc6pwv8WOR",
        "outputId": "9e8f74be-6017-4d32-f86b-48df0f25bffe"
      },
      "outputs": [
        {
          "name": "stderr",
          "output_type": "stream",
          "text": [
            "Downloading: \"https://download.pytorch.org/models/vgg11_bn-6002323d.pth\" to /root/.cache/torch/hub/checkpoints/vgg11_bn-6002323d.pth\n"
          ]
        },
        {
          "data": {
            "application/vnd.jupyter.widget-view+json": {
              "model_id": "999c2670c2394513b517dea89ba6886c",
              "version_major": 2,
              "version_minor": 0
            },
            "text/plain": [
              "  0%|          | 0.00/507M [00:00<?, ?B/s]"
            ]
          },
          "metadata": {},
          "output_type": "display_data"
        }
      ],
      "source": [
        "model = smp.Unet(\n",
        "    encoder_name=ENCODER,\n",
        "    encoder_weights=ENCODER_WEIGHTS,\n",
        "    in_channels=1,\n",
        "    classes=1,\n",
        "    activation=ACTIVATION\n",
        ")"
      ]
    },
    {
      "cell_type": "code",
      "execution_count": null,
      "metadata": {
        "id": "ciBB-dKY8b4k"
      },
      "outputs": [],
      "source": [
        "loss = smp.utils.losses.DiceLoss()\n",
        "metrics = [smp.utils.metrics.IoU()]\n",
        "optimizer = torch.optim.Adam\n",
        "scheduler = lr_scheduler.StepLR"
      ]
    },
    {
      "cell_type": "code",
      "execution_count": null,
      "metadata": {
        "id": "07WZ8Qly8fEV"
      },
      "outputs": [],
      "source": [
        "my_transforms = transforms.Compose([\n",
        "    transforms.Resize(size=(224, 224)),\n",
        "    transforms.ToTensor()\n",
        "])"
      ]
    },
    {
      "cell_type": "code",
      "execution_count": null,
      "metadata": {
        "id": "fyEZq7LIhxgD"
      },
      "outputs": [],
      "source": [
        "def split_df(df, fraction=0.8):  \n",
        "    df_1 = df.sample(frac=fraction)\n",
        "    return df_1, df.drop(df_1.index)"
      ]
    },
    {
      "cell_type": "markdown",
      "source": [
        "***TRENIRANJE MODELA*** - u grubom prevodu znači da utvrdimo dobre i prave vrednosti za sve tezine iz oboleženih i priloženih primera tj. dataset-a. Na ovaj način, model se gradi ispitivanjem različitih primera i pokušajem pronalska modela koji minimizira gubitak.  Poziva se ugrađena metoda za zaustavljanje treniranja u slučaju opadanja stope učenja, posle datog patience.\n",
        "Posle uspešnog treniranja čuva se model."
      ],
      "metadata": {
        "id": "u1gZcK8VKYZd"
      }
    },
    {
      "cell_type": "code",
      "execution_count": null,
      "metadata": {
        "id": "Q6bjZ73KiO1W"
      },
      "outputs": [],
      "source": [
        "def train(model, train_df, train_dir, optimizer, loss, metrics, \n",
        "          learning_rate=0.01, batch_size=20, epochs=10, patience=3,\n",
        "          scheduler=None, step_size=5, gamma=0.1, device='cpu', transform=None):   \n",
        "    \n",
        "    early_stopping = EarlyStopping(patience, path='best_model.pkl', verbose=True)\n",
        "    optimizer = optimizer(model.parameters(), learning_rate)\n",
        "\n",
        "    if scheduler:\n",
        "        scheduler = scheduler(optimizer, step_size, gamma) \n",
        "\n",
        "    train_epoch = smp.utils.train.TrainEpoch(\n",
        "        model, loss, metrics, optimizer, device, verbose=True\n",
        "    )\n",
        "    \n",
        "    valid_epoch = smp.utils.train.ValidEpoch(\n",
        "        model, loss, metrics, device, verbose=True\n",
        "    ) \n",
        "    \n",
        "    train_logs, valid_logs = [], []\n",
        "    \n",
        "    for epoch in range(epochs):   \n",
        "        train_dataframe, val_dataframe = split_df(train_df) \n",
        "          \n",
        "        train_dataset = ImageDataset(train_dataframe, train_dir, transform=transform)\n",
        "\n",
        "        valid_dataset = ImageDataset(val_dataframe, train_dir, transform=transform)\n",
        "\n",
        "        train_loader = torch.utils.data.DataLoader(dataset=train_dataset, \n",
        "                                                   batch_size=batch_size, \n",
        "                                                   shuffle=True)    \n",
        "\n",
        "        valid_loader = torch.utils.data.DataLoader(dataset=train_dataset, \n",
        "                                                   batch_size=batch_size, \n",
        "                                                   shuffle=False)        \n",
        "\n",
        "        print(f'\\nEpoch: {epoch+1}/{epochs}')\n",
        "\n",
        "        train_log = train_epoch.run(train_loader)\n",
        "        valid_log = valid_epoch.run(valid_loader)\n",
        "        \n",
        "        train_logs.append(train_log)\n",
        "        valid_logs.append(valid_log)\n",
        "   \n",
        "        early_stopping(valid_log[loss.__name__], model)\n",
        "        \n",
        "        if early_stopping.early_stop:\n",
        "            print(\"Early stopping\")\n",
        "            break\n",
        "\n",
        "        if scheduler:\n",
        "            scheduler.step()\n",
        "\n",
        "    return train_logs, valid_logs"
      ]
    },
    {
      "cell_type": "markdown",
      "source": [
        "Proces treniranja."
      ],
      "metadata": {
        "id": "IvQuFNAVLMo_"
      }
    },
    {
      "cell_type": "code",
      "execution_count": null,
      "metadata": {
        "colab": {
          "base_uri": "https://localhost:8080/"
        },
        "id": "apptIq_ciXHJ",
        "outputId": "42bd1f31-bf72-4ba9-9430-70c1cab9a0c8"
      },
      "outputs": [
        {
          "name": "stdout",
          "output_type": "stream",
          "text": [
            "\n",
            "Epoch: 1/20\n",
            "train: 100%|██████████| 226/226 [01:53<00:00,  2.00it/s, dice_loss - 0.5383, iou_score - 0.3123]\n",
            "valid: 100%|██████████| 226/226 [00:59<00:00,  3.80it/s, dice_loss - 0.4536, iou_score - 0.3822]\n",
            "Validation loss decreased (inf --> 0.453632).  Saving model ...\n",
            "\n",
            "Epoch: 2/20\n",
            "train: 100%|██████████| 226/226 [01:46<00:00,  2.12it/s, dice_loss - 0.4333, iou_score - 0.4025]\n",
            "valid: 100%|██████████| 226/226 [00:59<00:00,  3.78it/s, dice_loss - 0.4484, iou_score - 0.3874]\n",
            "Validation loss decreased (0.453632 --> 0.448404).  Saving model ...\n",
            "\n",
            "Epoch: 3/20\n",
            "train: 100%|██████████| 226/226 [01:48<00:00,  2.09it/s, dice_loss - 0.3936, iou_score - 0.4416]\n",
            "valid: 100%|██████████| 226/226 [00:59<00:00,  3.80it/s, dice_loss - 0.3628, iou_score - 0.4731]\n",
            "Validation loss decreased (0.448404 --> 0.362824).  Saving model ...\n",
            "\n",
            "Epoch: 4/20\n",
            "train: 100%|██████████| 226/226 [01:47<00:00,  2.10it/s, dice_loss - 0.3842, iou_score - 0.4526]\n",
            "valid: 100%|██████████| 226/226 [00:59<00:00,  3.78it/s, dice_loss - 0.3372, iou_score - 0.5021]\n",
            "Validation loss decreased (0.362824 --> 0.337157).  Saving model ...\n",
            "\n",
            "Epoch: 5/20\n",
            "train: 100%|██████████| 226/226 [01:47<00:00,  2.10it/s, dice_loss - 0.3622, iou_score - 0.475]\n",
            "valid: 100%|██████████| 226/226 [00:59<00:00,  3.78it/s, dice_loss - 0.4023, iou_score - 0.4309]\n",
            "EarlyStopping counter: 1 out of 3\n",
            "\n",
            "Epoch: 6/20\n",
            "train: 100%|██████████| 226/226 [01:47<00:00,  2.10it/s, dice_loss - 0.3434, iou_score - 0.4952]\n",
            "valid: 100%|██████████| 226/226 [00:59<00:00,  3.81it/s, dice_loss - 0.4178, iou_score - 0.4166]\n",
            "EarlyStopping counter: 2 out of 3\n",
            "\n",
            "Epoch: 7/20\n",
            "train: 100%|██████████| 226/226 [01:49<00:00,  2.06it/s, dice_loss - 0.3382, iou_score - 0.5017]\n",
            "valid: 100%|██████████| 226/226 [00:59<00:00,  3.80it/s, dice_loss - 0.3281, iou_score - 0.5137]\n",
            "Validation loss decreased (0.337157 --> 0.328138).  Saving model ...\n",
            "\n",
            "Epoch: 8/20\n",
            "train: 100%|██████████| 226/226 [01:47<00:00,  2.10it/s, dice_loss - 0.3236, iou_score - 0.519]\n",
            "valid: 100%|██████████| 226/226 [00:59<00:00,  3.78it/s, dice_loss - 0.3272, iou_score - 0.514]\n",
            "Validation loss decreased (0.328138 --> 0.327221).  Saving model ...\n",
            "\n",
            "Epoch: 9/20\n",
            "train: 100%|██████████| 226/226 [01:47<00:00,  2.10it/s, dice_loss - 0.2933, iou_score - 0.5536]\n",
            "valid: 100%|██████████| 226/226 [00:59<00:00,  3.80it/s, dice_loss - 0.3014, iou_score - 0.5431]\n",
            "Validation loss decreased (0.327221 --> 0.301428).  Saving model ...\n",
            "\n",
            "Epoch: 10/20\n",
            "train: 100%|██████████| 226/226 [01:47<00:00,  2.10it/s, dice_loss - 0.2932, iou_score - 0.5539]\n",
            "valid: 100%|██████████| 226/226 [00:59<00:00,  3.79it/s, dice_loss - 0.2684, iou_score - 0.5822]\n",
            "Validation loss decreased (0.301428 --> 0.268368).  Saving model ...\n",
            "\n",
            "Epoch: 11/20\n",
            "train: 100%|██████████| 226/226 [01:47<00:00,  2.11it/s, dice_loss - 0.2592, iou_score - 0.5955]\n",
            "valid: 100%|██████████| 226/226 [00:59<00:00,  3.78it/s, dice_loss - 0.2391, iou_score - 0.6211]\n",
            "Validation loss decreased (0.268368 --> 0.239088).  Saving model ...\n",
            "\n",
            "Epoch: 12/20\n",
            "train: 100%|██████████| 226/226 [01:47<00:00,  2.11it/s, dice_loss - 0.2455, iou_score - 0.6137]\n",
            "valid: 100%|██████████| 226/226 [00:59<00:00,  3.81it/s, dice_loss - 0.2353, iou_score - 0.6265]\n",
            "Validation loss decreased (0.239088 --> 0.235320).  Saving model ...\n",
            "\n",
            "Epoch: 13/20\n",
            "train: 100%|██████████| 226/226 [01:47<00:00,  2.11it/s, dice_loss - 0.2357, iou_score - 0.6258]\n",
            "valid: 100%|██████████| 226/226 [00:59<00:00,  3.82it/s, dice_loss - 0.2228, iou_score - 0.6415]\n",
            "Validation loss decreased (0.235320 --> 0.222777).  Saving model ...\n",
            "\n",
            "Epoch: 14/20\n",
            "train: 100%|██████████| 226/226 [01:47<00:00,  2.11it/s, dice_loss - 0.2294, iou_score - 0.6335]\n",
            "valid: 100%|██████████| 226/226 [00:59<00:00,  3.79it/s, dice_loss - 0.2156, iou_score - 0.6509]\n",
            "Validation loss decreased (0.222777 --> 0.215577).  Saving model ...\n",
            "\n",
            "Epoch: 15/20\n",
            "train: 100%|██████████| 226/226 [01:47<00:00,  2.10it/s, dice_loss - 0.2222, iou_score - 0.6426]\n",
            "valid: 100%|██████████| 226/226 [00:59<00:00,  3.82it/s, dice_loss - 0.2126, iou_score - 0.6555]\n",
            "Validation loss decreased (0.215577 --> 0.212605).  Saving model ...\n",
            "\n",
            "Epoch: 16/20\n",
            "train: 100%|██████████| 226/226 [01:47<00:00,  2.10it/s, dice_loss - 0.2159, iou_score - 0.6516]\n",
            "valid: 100%|██████████| 226/226 [00:59<00:00,  3.82it/s, dice_loss - 0.2121, iou_score - 0.657]\n",
            "Validation loss decreased (0.212605 --> 0.212113).  Saving model ...\n",
            "\n",
            "Epoch: 17/20\n",
            "train: 100%|██████████| 226/226 [01:47<00:00,  2.11it/s, dice_loss - 0.2162, iou_score - 0.6503]\n",
            "valid: 100%|██████████| 226/226 [00:59<00:00,  3.78it/s, dice_loss - 0.2049, iou_score - 0.6657]\n",
            "Validation loss decreased (0.212113 --> 0.204934).  Saving model ...\n",
            "\n",
            "Epoch: 18/20\n",
            "train: 100%|██████████| 226/226 [01:47<00:00,  2.11it/s, dice_loss - 0.2124, iou_score - 0.6569]\n",
            "valid: 100%|██████████| 226/226 [00:59<00:00,  3.81it/s, dice_loss - 0.2022, iou_score - 0.671]\n",
            "Validation loss decreased (0.204934 --> 0.202204).  Saving model ...\n",
            "\n",
            "Epoch: 19/20\n",
            "train: 100%|██████████| 226/226 [01:47<00:00,  2.11it/s, dice_loss - 0.2062, iou_score - 0.6643]\n",
            "valid: 100%|██████████| 226/226 [00:59<00:00,  3.82it/s, dice_loss - 0.1999, iou_score - 0.6736]\n",
            "Validation loss decreased (0.202204 --> 0.199936).  Saving model ...\n",
            "\n",
            "Epoch: 20/20\n",
            "train: 100%|██████████| 226/226 [01:47<00:00,  2.11it/s, dice_loss - 0.1978, iou_score - 0.6761]\n",
            "valid: 100%|██████████| 226/226 [00:59<00:00,  3.79it/s, dice_loss - 0.1954, iou_score - 0.6805]\n",
            "Validation loss decreased (0.199936 --> 0.195378).  Saving model ...\n"
          ]
        }
      ],
      "source": [
        "res = train(model=model,\n",
        "            train_df=train_df, \n",
        "            train_dir=TRAIN_PATH, \n",
        "            optimizer=optimizer,\n",
        "            loss=loss,\n",
        "            learning_rate=0.01,\n",
        "            metrics=metrics,\n",
        "            batch_size=20,\n",
        "            epochs=20,\n",
        "            scheduler=scheduler,\n",
        "            step_size=10,\n",
        "            patience=3,\n",
        "            device=DEVICE, \n",
        "            transform=my_transforms)"
      ]
    },
    {
      "cell_type": "markdown",
      "source": [
        "**EVALUACIJA**\n",
        "\n",
        "Nakon treniranja modela, grafički se prikazuju rezultati.\n",
        "\n",
        "Prvo je prikazano koliko je bilo preklapanja između predicted i ground truth, izražen u opsegu od 0 do 1, a zatim koliko je bilo odstupanja tokom epoha treniranja.\n",
        "\n"
      ],
      "metadata": {
        "id": "XlgkMqfVLimc"
      }
    },
    {
      "cell_type": "code",
      "execution_count": null,
      "metadata": {
        "id": "7XQQoWXzvnJO"
      },
      "outputs": [],
      "source": [
        "import pickle"
      ]
    },
    {
      "cell_type": "code",
      "execution_count": null,
      "metadata": {
        "id": "1NOrxL6EvvpA"
      },
      "outputs": [],
      "source": [
        "with open('results.pkl', 'wb') as f:\n",
        "    pickle.dump(res, f)"
      ]
    },
    {
      "cell_type": "code",
      "execution_count": null,
      "metadata": {
        "id": "6c8erQUIwKef"
      },
      "outputs": [],
      "source": [
        "with open('best_model.pkl', 'rb') as f:\n",
        "    best_model = pickle.load(f)"
      ]
    },
    {
      "cell_type": "code",
      "execution_count": null,
      "metadata": {
        "id": "ij_TMxM-we5h"
      },
      "outputs": [],
      "source": [
        "train_logs_df = pd.DataFrame(res[0])\n",
        "valid_logs_df = pd.DataFrame(res[1])\n",
        "\n",
        "res_dict = {'train': train_logs_df, 'valid': valid_logs_df}"
      ]
    },
    {
      "cell_type": "code",
      "execution_count": null,
      "metadata": {
        "id": "RIjJV9xrw8EW"
      },
      "outputs": [],
      "source": [
        "def draw_graphic(df_dict, title, criteria, xlab, ylab, colors=['b', 'r'], \n",
        "                 legend_loc='best', figsize=(10, 5), fontsize=16):\n",
        "    fig = plt.figure(figsize=figsize)\n",
        "    for i, key in enumerate(df_dict):\n",
        "        plt.plot(df_dict[key].index.tolist(), df_dict[key][criteria].tolist(), colors[i], lw=3, label=key)\n",
        "    plt.xlabel(xlab, fontsize=fontsize)\n",
        "    plt.ylabel(ylab, fontsize=fontsize)\n",
        "    plt.title(title, fontsize=fontsize)\n",
        "    plt.legend(loc=legend_loc, fontsize=fontsize)\n",
        "    plt.grid()\n",
        "    fig.show()  "
      ]
    },
    {
      "cell_type": "code",
      "execution_count": null,
      "metadata": {
        "colab": {
          "base_uri": "https://localhost:8080/",
          "height": 357
        },
        "id": "zGsZTPASxFD8",
        "outputId": "29497151-070f-4a52-b56c-4aed999effa3"
      },
      "outputs": [
        {
          "data": {
            "image/png": "[encoded data removed]",
            "text/plain": [
              "<Figure size 720x360 with 1 Axes>"
            ]
          },
          "metadata": {},
          "output_type": "display_data"
        }
      ],
      "source": [
        "draw_graphic(df_dict=res_dict, title='IoU Scores', criteria='iou_score', xlab='epochs', ylab='IoU score')"
      ]
    },
    {
      "cell_type": "code",
      "execution_count": null,
      "metadata": {
        "colab": {
          "base_uri": "https://localhost:8080/",
          "height": 357
        },
        "id": "Eu1nX-XUxJIw",
        "outputId": "90cb02b5-ab63-4c8e-b9f6-23c02d2e195d"
      },
      "outputs": [
        {
          "data": {
            "image/png": "[encoded data removed]",
            "text/plain": [
              "<Figure size 720x360 with 1 Axes>"
            ]
          },
          "metadata": {},
          "output_type": "display_data"
        }
      ],
      "source": [
        "draw_graphic(df_dict=res_dict, title='Dice Losses', criteria='dice_loss', xlab='epochs', ylab='IoU score')"
      ]
    },
    {
      "cell_type": "markdown",
      "source": [
        "**TESTIRANJE**\n",
        "\n",
        "Na kraju se testira model nad test podacima i sve se čuva u submission fajlu.\n",
        "Pravi se submission fajl koji sadrži pretpostavke natreniranog modela. Za svaku sliku iz trening seta se prolazi i piše kolika je predikcija odnosno gde je predviđeno da se nalazi nerv."
      ],
      "metadata": {
        "id": "JBvwl1lpLusz"
      }
    },
    {
      "cell_type": "code",
      "execution_count": null,
      "metadata": {
        "id": "8Jm7k5gAxODs"
      },
      "outputs": [],
      "source": [
        "def rle_encoding(x):\n",
        "    dots = np.where(x.T.flatten()==1)[0]\n",
        "    run_lengths = []\n",
        "    prev = -2\n",
        "    for b in dots:\n",
        "        if (b>prev+1): run_lengths.extend((b+1, 0))\n",
        "        run_lengths[-1] += 1\n",
        "        prev = b\n",
        "    return run_lengths"
      ]
    },
    {
      "cell_type": "code",
      "execution_count": null,
      "metadata": {
        "id": "4s_JgGXExWfi"
      },
      "outputs": [],
      "source": [
        "from tqdm.notebook import tqdm"
      ]
    },
    {
      "cell_type": "code",
      "execution_count": null,
      "metadata": {
        "id": "_PKxs816xZZL"
      },
      "outputs": [],
      "source": [
        "imgs = [f for f in os.listdir(TEST_PATH)]\n",
        "imgs = sorted(imgs, key=lambda s: int(s.split('.')[0]))"
      ]
    },
    {
      "cell_type": "code",
      "execution_count": null,
      "metadata": {
        "id": "tEd_zn4exbcg"
      },
      "outputs": [],
      "source": [
        "def create_csv_submission(model, data_path, img_list, out_path):\n",
        "    submission_df = pd.DataFrame(columns=['img', 'pixels'])\n",
        "    model.to(DEVICE)\n",
        "    model.eval()\n",
        "    \n",
        "    for i, img in enumerate(tqdm(img_list)):\n",
        "        x = Image.open(os.path.join(data_path, img))\n",
        "\n",
        "        x = my_transforms(x)\n",
        "\n",
        "        x = x.unsqueeze(0).to(DEVICE)\n",
        "        pred_mask = model.predict(x)\n",
        "\n",
        "        pred_mask = pred_mask.cpu()#.numpy().round().astype(np.uint8)\n",
        "        pred_mask = transforms.Resize(size=(420, 580))(pred_mask)\n",
        "\n",
        "        encoding = rle_encoding(pred_mask)\n",
        "\n",
        "        pixels = ' '.join(map(str, encoding))\n",
        "        submission_df.loc[i] = [str(i+1), pixels]\n",
        "\n",
        "    submission_df.to_csv(out_path, index=False)"
      ]
    },
    {
      "cell_type": "code",
      "execution_count": null,
      "metadata": {
        "colab": {
          "base_uri": "https://localhost:8080/",
          "height": 104,
          "referenced_widgets": [
            "20a86be4aef046b39990196d8c720567",
            "ef6f2c5400fb49d581f30c93df106ef9",
            "c32b3948b58c44f1a9068af2de161579",
            "a6b7e3c004b84ea9a3f2453b7460fe12",
            "7faeca4a5e5d4da4887ee80f8dfc2f34",
            "395d7a0f3f4c4e03ac3f88397b846821",
            "5cad87d87d4e4a37bfdfc35f0c20bbcf",
            "4d91b6b4963f4c11b83a3d8411aac9f4",
            "018ddd2b17264df88e043c1033f907a4",
            "a009085bb514406c8ac593f6589acc92",
            "1fde2ae653554eecb8563b74513db6dc"
          ]
        },
        "id": "qLlfmo10xibU",
        "outputId": "c4f68f5f-cacf-4fc6-e83e-5fa4f15e0933"
      },
      "outputs": [
        {
          "data": {
            "application/vnd.jupyter.widget-view+json": {
              "model_id": "20a86be4aef046b39990196d8c720567",
              "version_major": 2,
              "version_minor": 0
            },
            "text/plain": [
              "  0%|          | 0/5508 [00:00<?, ?it/s]"
            ]
          },
          "metadata": {},
          "output_type": "display_data"
        },
        {
          "name": "stderr",
          "output_type": "stream",
          "text": [
            "/usr/local/lib/python3.7/dist-packages/ipykernel_launcher.py:2: UserWarning: The use of `x.T` on tensors of dimension other than 2 to reverse their shape is deprecated and it will throw an error in a future release. Consider `x.mT` to transpose batches of matricesor `x.permute(*torch.arange(x.ndim - 1, -1, -1))` to reverse the dimensions of a tensor. (Triggered internally at  ../aten/src/ATen/native/TensorShape.cpp:2981.)\n",
            "  \n"
          ]
        }
      ],
      "source": [
        "create_csv_submission(model=model, \n",
        "                      data_path=TEST_PATH, \n",
        "                      img_list=imgs,\n",
        "                      out_path='submission.csv')"
      ]
    }
  ],
  "metadata": {
    "accelerator": "GPU",
    "colab": {
      "collapsed_sections": [],
      "name": "it50_2018_stančić_lena_segmentacija.ipynb",
      "provenance": [],
      "authorship_tag": "ABX9TyMwbz59iecYVrZRoMFH4BQp",
      "include_colab_link": true
    },
    "gpuClass": "standard",
    "kernelspec": {
      "display_name": "Python 3",
      "name": "python3"
    },
    "language_info": {
      "name": "python"
    },
    "widgets": {
      "application/vnd.jupyter.widget-state+json": {
        "00161eca441a4c759de82576810e8516": {
          "model_module": "@jupyter-widgets/controls",
          "model_module_version": "1.5.0",
          "model_name": "DescriptionStyleModel",
          "state": {
            "_model_module": "@jupyter-widgets/controls",
            "_model_module_version": "1.5.0",
            "_model_name": "DescriptionStyleModel",
            "_view_count": null,
            "_view_module": "@jupyter-widgets/base",
            "_view_module_version": "1.2.0",
            "_view_name": "StyleView",
            "description_width": ""
          }
        },
        "018ddd2b17264df88e043c1033f907a4": {
          "model_module": "@jupyter-widgets/controls",
          "model_module_version": "1.5.0",
          "model_name": "ProgressStyleModel",
          "state": {
            "_model_module": "@jupyter-widgets/controls",
            "_model_module_version": "1.5.0",
            "_model_name": "ProgressStyleModel",
            "_view_count": null,
            "_view_module": "@jupyter-widgets/base",
            "_view_module_version": "1.2.0",
            "_view_name": "StyleView",
            "bar_color": null,
            "description_width": ""
          }
        },
        "06309e23c2a54a38a18907e0dbdb91c5": {
          "model_module": "@jupyter-widgets/controls",
          "model_module_version": "1.5.0",
          "model_name": "DescriptionStyleModel",
          "state": {
            "_model_module": "@jupyter-widgets/controls",
            "_model_module_version": "1.5.0",
            "_model_name": "DescriptionStyleModel",
            "_view_count": null,
            "_view_module": "@jupyter-widgets/base",
            "_view_module_version": "1.2.0",
            "_view_name": "StyleView",
            "description_width": ""
          }
        },
        "1fde2ae653554eecb8563b74513db6dc": {
          "model_module": "@jupyter-widgets/controls",
          "model_module_version": "1.5.0",
          "model_name": "DescriptionStyleModel",
          "state": {
            "_model_module": "@jupyter-widgets/controls",
            "_model_module_version": "1.5.0",
            "_model_name": "DescriptionStyleModel",
            "_view_count": null,
            "_view_module": "@jupyter-widgets/base",
            "_view_module_version": "1.2.0",
            "_view_name": "StyleView",
            "description_width": ""
          }
        },
        "20a86be4aef046b39990196d8c720567": {
          "model_module": "@jupyter-widgets/controls",
          "model_module_version": "1.5.0",
          "model_name": "HBoxModel",
          "state": {
            "_dom_classes": [],
            "_model_module": "@jupyter-widgets/controls",
            "_model_module_version": "1.5.0",
            "_model_name": "HBoxModel",
            "_view_count": null,
            "_view_module": "@jupyter-widgets/controls",
            "_view_module_version": "1.5.0",
            "_view_name": "HBoxView",
            "box_style": "",
            "children": [
              "IPY_MODEL_ef6f2c5400fb49d581f30c93df106ef9",
              "IPY_MODEL_c32b3948b58c44f1a9068af2de161579",
              "IPY_MODEL_a6b7e3c004b84ea9a3f2453b7460fe12"
            ],
            "layout": "IPY_MODEL_7faeca4a5e5d4da4887ee80f8dfc2f34"
          }
        },
        "22fae37f25d7469dbea5aafac92bfe7c": {
          "model_module": "@jupyter-widgets/controls",
          "model_module_version": "1.5.0",
          "model_name": "HTMLModel",
          "state": {
            "_dom_classes": [],
            "_model_module": "@jupyter-widgets/controls",
            "_model_module_version": "1.5.0",
            "_model_name": "HTMLModel",
            "_view_count": null,
            "_view_module": "@jupyter-widgets/controls",
            "_view_module_version": "1.5.0",
            "_view_name": "HTMLView",
            "description": "",
            "description_tooltip": null,
            "layout": "IPY_MODEL_a04d00c66a914c7faac207a2ea7224af",
            "placeholder": "​",
            "style": "IPY_MODEL_00161eca441a4c759de82576810e8516",
            "value": "100%"
          }
        },
        "395d7a0f3f4c4e03ac3f88397b846821": {
          "model_module": "@jupyter-widgets/base",
          "model_module_version": "1.2.0",
          "model_name": "LayoutModel",
          "state": {
            "_model_module": "@jupyter-widgets/base",
            "_model_module_version": "1.2.0",
            "_model_name": "LayoutModel",
            "_view_count": null,
            "_view_module": "@jupyter-widgets/base",
            "_view_module_version": "1.2.0",
            "_view_name": "LayoutView",
            "align_content": null,
            "align_items": null,
            "align_self": null,
            "border": null,
            "bottom": null,
            "display": null,
            "flex": null,
            "flex_flow": null,
            "grid_area": null,
            "grid_auto_columns": null,
            "grid_auto_flow": null,
            "grid_auto_rows": null,
            "grid_column": null,
            "grid_gap": null,
            "grid_row": null,
            "grid_template_areas": null,
            "grid_template_columns": null,
            "grid_template_rows": null,
            "height": null,
            "justify_content": null,
            "justify_items": null,
            "left": null,
            "margin": null,
            "max_height": null,
            "max_width": null,
            "min_height": null,
            "min_width": null,
            "object_fit": null,
            "object_position": null,
            "order": null,
            "overflow": null,
            "overflow_x": null,
            "overflow_y": null,
            "padding": null,
            "right": null,
            "top": null,
            "visibility": null,
            "width": null
          }
        },
        "4d91b6b4963f4c11b83a3d8411aac9f4": {
          "model_module": "@jupyter-widgets/base",
          "model_module_version": "1.2.0",
          "model_name": "LayoutModel",
          "state": {
            "_model_module": "@jupyter-widgets/base",
            "_model_module_version": "1.2.0",
            "_model_name": "LayoutModel",
            "_view_count": null,
            "_view_module": "@jupyter-widgets/base",
            "_view_module_version": "1.2.0",
            "_view_name": "LayoutView",
            "align_content": null,
            "align_items": null,
            "align_self": null,
            "border": null,
            "bottom": null,
            "display": null,
            "flex": null,
            "flex_flow": null,
            "grid_area": null,
            "grid_auto_columns": null,
            "grid_auto_flow": null,
            "grid_auto_rows": null,
            "grid_column": null,
            "grid_gap": null,
            "grid_row": null,
            "grid_template_areas": null,
            "grid_template_columns": null,
            "grid_template_rows": null,
            "height": null,
            "justify_content": null,
            "justify_items": null,
            "left": null,
            "margin": null,
            "max_height": null,
            "max_width": null,
            "min_height": null,
            "min_width": null,
            "object_fit": null,
            "object_position": null,
            "order": null,
            "overflow": null,
            "overflow_x": null,
            "overflow_y": null,
            "padding": null,
            "right": null,
            "top": null,
            "visibility": null,
            "width": null
          }
        },
        "4fa77f85f5394cf1a070474d2e688114": {
          "model_module": "@jupyter-widgets/controls",
          "model_module_version": "1.5.0",
          "model_name": "FloatProgressModel",
          "state": {
            "_dom_classes": [],
            "_model_module": "@jupyter-widgets/controls",
            "_model_module_version": "1.5.0",
            "_model_name": "FloatProgressModel",
            "_view_count": null,
            "_view_module": "@jupyter-widgets/controls",
            "_view_module_version": "1.5.0",
            "_view_name": "ProgressView",
            "bar_style": "success",
            "description": "",
            "description_tooltip": null,
            "layout": "IPY_MODEL_c6fb7269154d4898b1e93bf51660dccc",
            "max": 531503671,
            "min": 0,
            "orientation": "horizontal",
            "style": "IPY_MODEL_704e3110628f4c9aa5313ebf83c1df5d",
            "value": 531503671
          }
        },
        "5cad87d87d4e4a37bfdfc35f0c20bbcf": {
          "model_module": "@jupyter-widgets/controls",
          "model_module_version": "1.5.0",
          "model_name": "DescriptionStyleModel",
          "state": {
            "_model_module": "@jupyter-widgets/controls",
            "_model_module_version": "1.5.0",
            "_model_name": "DescriptionStyleModel",
            "_view_count": null,
            "_view_module": "@jupyter-widgets/base",
            "_view_module_version": "1.2.0",
            "_view_name": "StyleView",
            "description_width": ""
          }
        },
        "5ff9fba0677c43028bdfac5504afd12c": {
          "model_module": "@jupyter-widgets/controls",
          "model_module_version": "1.5.0",
          "model_name": "HTMLModel",
          "state": {
            "_dom_classes": [],
            "_model_module": "@jupyter-widgets/controls",
            "_model_module_version": "1.5.0",
            "_model_name": "HTMLModel",
            "_view_count": null,
            "_view_module": "@jupyter-widgets/controls",
            "_view_module_version": "1.5.0",
            "_view_name": "HTMLView",
            "description": "",
            "description_tooltip": null,
            "layout": "IPY_MODEL_94f7def8cf734e9e9238333bfdd76bee",
            "placeholder": "​",
            "style": "IPY_MODEL_06309e23c2a54a38a18907e0dbdb91c5",
            "value": " 507M/507M [00:02&lt;00:00, 186MB/s]"
          }
        },
        "6ff6cc1831c14e92bf2e9c807f79ee66": {
          "model_module": "@jupyter-widgets/base",
          "model_module_version": "1.2.0",
          "model_name": "LayoutModel",
          "state": {
            "_model_module": "@jupyter-widgets/base",
            "_model_module_version": "1.2.0",
            "_model_name": "LayoutModel",
            "_view_count": null,
            "_view_module": "@jupyter-widgets/base",
            "_view_module_version": "1.2.0",
            "_view_name": "LayoutView",
            "align_content": null,
            "align_items": null,
            "align_self": null,
            "border": null,
            "bottom": null,
            "display": null,
            "flex": null,
            "flex_flow": null,
            "grid_area": null,
            "grid_auto_columns": null,
            "grid_auto_flow": null,
            "grid_auto_rows": null,
            "grid_column": null,
            "grid_gap": null,
            "grid_row": null,
            "grid_template_areas": null,
            "grid_template_columns": null,
            "grid_template_rows": null,
            "height": null,
            "justify_content": null,
            "justify_items": null,
            "left": null,
            "margin": null,
            "max_height": null,
            "max_width": null,
            "min_height": null,
            "min_width": null,
            "object_fit": null,
            "object_position": null,
            "order": null,
            "overflow": null,
            "overflow_x": null,
            "overflow_y": null,
            "padding": null,
            "right": null,
            "top": null,
            "visibility": null,
            "width": null
          }
        },
        "704e3110628f4c9aa5313ebf83c1df5d": {
          "model_module": "@jupyter-widgets/controls",
          "model_module_version": "1.5.0",
          "model_name": "ProgressStyleModel",
          "state": {
            "_model_module": "@jupyter-widgets/controls",
            "_model_module_version": "1.5.0",
            "_model_name": "ProgressStyleModel",
            "_view_count": null,
            "_view_module": "@jupyter-widgets/base",
            "_view_module_version": "1.2.0",
            "_view_name": "StyleView",
            "bar_color": null,
            "description_width": ""
          }
        },
        "7faeca4a5e5d4da4887ee80f8dfc2f34": {
          "model_module": "@jupyter-widgets/base",
          "model_module_version": "1.2.0",
          "model_name": "LayoutModel",
          "state": {
            "_model_module": "@jupyter-widgets/base",
            "_model_module_version": "1.2.0",
            "_model_name": "LayoutModel",
            "_view_count": null,
            "_view_module": "@jupyter-widgets/base",
            "_view_module_version": "1.2.0",
            "_view_name": "LayoutView",
            "align_content": null,
            "align_items": null,
            "align_self": null,
            "border": null,
            "bottom": null,
            "display": null,
            "flex": null,
            "flex_flow": null,
            "grid_area": null,
            "grid_auto_columns": null,
            "grid_auto_flow": null,
            "grid_auto_rows": null,
            "grid_column": null,
            "grid_gap": null,
            "grid_row": null,
            "grid_template_areas": null,
            "grid_template_columns": null,
            "grid_template_rows": null,
            "height": null,
            "justify_content": null,
            "justify_items": null,
            "left": null,
            "margin": null,
            "max_height": null,
            "max_width": null,
            "min_height": null,
            "min_width": null,
            "object_fit": null,
            "object_position": null,
            "order": null,
            "overflow": null,
            "overflow_x": null,
            "overflow_y": null,
            "padding": null,
            "right": null,
            "top": null,
            "visibility": null,
            "width": null
          }
        },
        "94f7def8cf734e9e9238333bfdd76bee": {
          "model_module": "@jupyter-widgets/base",
          "model_module_version": "1.2.0",
          "model_name": "LayoutModel",
          "state": {
            "_model_module": "@jupyter-widgets/base",
            "_model_module_version": "1.2.0",
            "_model_name": "LayoutModel",
            "_view_count": null,
            "_view_module": "@jupyter-widgets/base",
            "_view_module_version": "1.2.0",
            "_view_name": "LayoutView",
            "align_content": null,
            "align_items": null,
            "align_self": null,
            "border": null,
            "bottom": null,
            "display": null,
            "flex": null,
            "flex_flow": null,
            "grid_area": null,
            "grid_auto_columns": null,
            "grid_auto_flow": null,
            "grid_auto_rows": null,
            "grid_column": null,
            "grid_gap": null,
            "grid_row": null,
            "grid_template_areas": null,
            "grid_template_columns": null,
            "grid_template_rows": null,
            "height": null,
            "justify_content": null,
            "justify_items": null,
            "left": null,
            "margin": null,
            "max_height": null,
            "max_width": null,
            "min_height": null,
            "min_width": null,
            "object_fit": null,
            "object_position": null,
            "order": null,
            "overflow": null,
            "overflow_x": null,
            "overflow_y": null,
            "padding": null,
            "right": null,
            "top": null,
            "visibility": null,
            "width": null
          }
        },
        "999c2670c2394513b517dea89ba6886c": {
          "model_module": "@jupyter-widgets/controls",
          "model_module_version": "1.5.0",
          "model_name": "HBoxModel",
          "state": {
            "_dom_classes": [],
            "_model_module": "@jupyter-widgets/controls",
            "_model_module_version": "1.5.0",
            "_model_name": "HBoxModel",
            "_view_count": null,
            "_view_module": "@jupyter-widgets/controls",
            "_view_module_version": "1.5.0",
            "_view_name": "HBoxView",
            "box_style": "",
            "children": [
              "IPY_MODEL_22fae37f25d7469dbea5aafac92bfe7c",
              "IPY_MODEL_4fa77f85f5394cf1a070474d2e688114",
              "IPY_MODEL_5ff9fba0677c43028bdfac5504afd12c"
            ],
            "layout": "IPY_MODEL_6ff6cc1831c14e92bf2e9c807f79ee66"
          }
        },
        "a009085bb514406c8ac593f6589acc92": {
          "model_module": "@jupyter-widgets/base",
          "model_module_version": "1.2.0",
          "model_name": "LayoutModel",
          "state": {
            "_model_module": "@jupyter-widgets/base",
            "_model_module_version": "1.2.0",
            "_model_name": "LayoutModel",
            "_view_count": null,
            "_view_module": "@jupyter-widgets/base",
            "_view_module_version": "1.2.0",
            "_view_name": "LayoutView",
            "align_content": null,
            "align_items": null,
            "align_self": null,
            "border": null,
            "bottom": null,
            "display": null,
            "flex": null,
            "flex_flow": null,
            "grid_area": null,
            "grid_auto_columns": null,
            "grid_auto_flow": null,
            "grid_auto_rows": null,
            "grid_column": null,
            "grid_gap": null,
            "grid_row": null,
            "grid_template_areas": null,
            "grid_template_columns": null,
            "grid_template_rows": null,
            "height": null,
            "justify_content": null,
            "justify_items": null,
            "left": null,
            "margin": null,
            "max_height": null,
            "max_width": null,
            "min_height": null,
            "min_width": null,
            "object_fit": null,
            "object_position": null,
            "order": null,
            "overflow": null,
            "overflow_x": null,
            "overflow_y": null,
            "padding": null,
            "right": null,
            "top": null,
            "visibility": null,
            "width": null
          }
        },
        "a04d00c66a914c7faac207a2ea7224af": {
          "model_module": "@jupyter-widgets/base",
          "model_module_version": "1.2.0",
          "model_name": "LayoutModel",
          "state": {
            "_model_module": "@jupyter-widgets/base",
            "_model_module_version": "1.2.0",
            "_model_name": "LayoutModel",
            "_view_count": null,
            "_view_module": "@jupyter-widgets/base",
            "_view_module_version": "1.2.0",
            "_view_name": "LayoutView",
            "align_content": null,
            "align_items": null,
            "align_self": null,
            "border": null,
            "bottom": null,
            "display": null,
            "flex": null,
            "flex_flow": null,
            "grid_area": null,
            "grid_auto_columns": null,
            "grid_auto_flow": null,
            "grid_auto_rows": null,
            "grid_column": null,
            "grid_gap": null,
            "grid_row": null,
            "grid_template_areas": null,
            "grid_template_columns": null,
            "grid_template_rows": null,
            "height": null,
            "justify_content": null,
            "justify_items": null,
            "left": null,
            "margin": null,
            "max_height": null,
            "max_width": null,
            "min_height": null,
            "min_width": null,
            "object_fit": null,
            "object_position": null,
            "order": null,
            "overflow": null,
            "overflow_x": null,
            "overflow_y": null,
            "padding": null,
            "right": null,
            "top": null,
            "visibility": null,
            "width": null
          }
        },
        "a6b7e3c004b84ea9a3f2453b7460fe12": {
          "model_module": "@jupyter-widgets/controls",
          "model_module_version": "1.5.0",
          "model_name": "HTMLModel",
          "state": {
            "_dom_classes": [],
            "_model_module": "@jupyter-widgets/controls",
            "_model_module_version": "1.5.0",
            "_model_name": "HTMLModel",
            "_view_count": null,
            "_view_module": "@jupyter-widgets/controls",
            "_view_module_version": "1.5.0",
            "_view_name": "HTMLView",
            "description": "",
            "description_tooltip": null,
            "layout": "IPY_MODEL_a009085bb514406c8ac593f6589acc92",
            "placeholder": "​",
            "style": "IPY_MODEL_1fde2ae653554eecb8563b74513db6dc",
            "value": " 5508/5508 [02:20&lt;00:00, 39.93it/s]"
          }
        },
        "c32b3948b58c44f1a9068af2de161579": {
          "model_module": "@jupyter-widgets/controls",
          "model_module_version": "1.5.0",
          "model_name": "FloatProgressModel",
          "state": {
            "_dom_classes": [],
            "_model_module": "@jupyter-widgets/controls",
            "_model_module_version": "1.5.0",
            "_model_name": "FloatProgressModel",
            "_view_count": null,
            "_view_module": "@jupyter-widgets/controls",
            "_view_module_version": "1.5.0",
            "_view_name": "ProgressView",
            "bar_style": "success",
            "description": "",
            "description_tooltip": null,
            "layout": "IPY_MODEL_4d91b6b4963f4c11b83a3d8411aac9f4",
            "max": 5508,
            "min": 0,
            "orientation": "horizontal",
            "style": "IPY_MODEL_018ddd2b17264df88e043c1033f907a4",
            "value": 5508
          }
        },
        "c6fb7269154d4898b1e93bf51660dccc": {
          "model_module": "@jupyter-widgets/base",
          "model_module_version": "1.2.0",
          "model_name": "LayoutModel",
          "state": {
            "_model_module": "@jupyter-widgets/base",
            "_model_module_version": "1.2.0",
            "_model_name": "LayoutModel",
            "_view_count": null,
            "_view_module": "@jupyter-widgets/base",
            "_view_module_version": "1.2.0",
            "_view_name": "LayoutView",
            "align_content": null,
            "align_items": null,
            "align_self": null,
            "border": null,
            "bottom": null,
            "display": null,
            "flex": null,
            "flex_flow": null,
            "grid_area": null,
            "grid_auto_columns": null,
            "grid_auto_flow": null,
            "grid_auto_rows": null,
            "grid_column": null,
            "grid_gap": null,
            "grid_row": null,
            "grid_template_areas": null,
            "grid_template_columns": null,
            "grid_template_rows": null,
            "height": null,
            "justify_content": null,
            "justify_items": null,
            "left": null,
            "margin": null,
            "max_height": null,
            "max_width": null,
            "min_height": null,
            "min_width": null,
            "object_fit": null,
            "object_position": null,
            "order": null,
            "overflow": null,
            "overflow_x": null,
            "overflow_y": null,
            "padding": null,
            "right": null,
            "top": null,
            "visibility": null,
            "width": null
          }
        },
        "ef6f2c5400fb49d581f30c93df106ef9": {
          "model_module": "@jupyter-widgets/controls",
          "model_module_version": "1.5.0",
          "model_name": "HTMLModel",
          "state": {
            "_dom_classes": [],
            "_model_module": "@jupyter-widgets/controls",
            "_model_module_version": "1.5.0",
            "_model_name": "HTMLModel",
            "_view_count": null,
            "_view_module": "@jupyter-widgets/controls",
            "_view_module_version": "1.5.0",
            "_view_name": "HTMLView",
            "description": "",
            "description_tooltip": null,
            "layout": "IPY_MODEL_395d7a0f3f4c4e03ac3f88397b846821",
            "placeholder": "​",
            "style": "IPY_MODEL_5cad87d87d4e4a37bfdfc35f0c20bbcf",
            "value": "100%"
          }
        }
      }
    }
  },
  "nbformat": 4,
  "nbformat_minor": 0
}